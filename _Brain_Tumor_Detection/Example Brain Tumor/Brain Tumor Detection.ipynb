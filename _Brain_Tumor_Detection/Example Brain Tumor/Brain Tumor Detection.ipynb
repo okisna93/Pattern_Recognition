{
 "cells": [
  {
   "cell_type": "code",
   "execution_count": null,
   "id": "f8e8280d-ee8d-46de-a42b-c0d7bbbd75aa",
   "metadata": {},
   "outputs": [],
   "source": [
    "# ISMET OKAN CELIK CWID: 10472265\n",
    "\n",
    "# Installation of Necessary Pacages\n",
    "#!pip install numpy\n",
    "#!pip install -U matplotlib\n",
    "#!pip install seaborn\n",
    "#!pip install -U scikit-learn\n",
    "#!pip install pandas\n",
    "#!pip install opencv-python\n",
    "#!pip install os-sys\n",
    "#!pip install pip install mlxtend  "
   ]
  },
  {
   "cell_type": "code",
   "execution_count": 32,
   "id": "faa8af57-fa0e-4abc-8c57-65f36cb1692c",
   "metadata": {},
   "outputs": [],
   "source": [
    "import numpy as np \n",
    "import matplotlib.pyplot as plt\n",
    "import seaborn as sns\n",
    "from sklearn.model_selection import train_test_split\n",
    "from sklearn.preprocessing import StandardScaler\n",
    "import pandas as pd\n",
    "import cv2\n",
    "from sklearn.neighbors import KNeighborsClassifier\n",
    "import os\n",
    "from sklearn.decomposition import PCA\n",
    "from sklearn import neighbors\n",
    "from mlxtend.plotting import plot_decision_regions\n",
    "from sklearn.svm import SVC\n",
    "from sklearn.metrics import classification_report, confusion_matrix\n",
    "from sklearn.naive_bayes import GaussianNB\n",
    "import random\n",
    "import matplotlib.image as mpimg\n",
    "%matplotlib inline"
   ]
  },
  {
   "cell_type": "code",
   "execution_count": 33,
   "id": "750b6067-4cf7-460f-9f78-df17abcecc36",
   "metadata": {},
   "outputs": [
    {
     "data": {
      "text/html": [
       "<div>\n",
       "<style scoped>\n",
       "    .dataframe tbody tr th:only-of-type {\n",
       "        vertical-align: middle;\n",
       "    }\n",
       "\n",
       "    .dataframe tbody tr th {\n",
       "        vertical-align: top;\n",
       "    }\n",
       "\n",
       "    .dataframe thead th {\n",
       "        text-align: right;\n",
       "    }\n",
       "</style>\n",
       "<table border=\"1\" class=\"dataframe\">\n",
       "  <thead>\n",
       "    <tr style=\"text-align: right;\">\n",
       "      <th></th>\n",
       "      <th>Image</th>\n",
       "      <th>Class</th>\n",
       "      <th>Mean</th>\n",
       "      <th>Variance</th>\n",
       "      <th>Standard Deviation</th>\n",
       "      <th>Entropy</th>\n",
       "      <th>Skewness</th>\n",
       "      <th>Kurtosis</th>\n",
       "      <th>Contrast</th>\n",
       "      <th>Energy</th>\n",
       "      <th>ASM</th>\n",
       "      <th>Homogeneity</th>\n",
       "      <th>Dissimilarity</th>\n",
       "      <th>Correlation</th>\n",
       "      <th>Coarseness</th>\n",
       "    </tr>\n",
       "  </thead>\n",
       "  <tbody>\n",
       "    <tr>\n",
       "      <th>0</th>\n",
       "      <td>Image1</td>\n",
       "      <td>0</td>\n",
       "      <td>6.535339</td>\n",
       "      <td>619.587845</td>\n",
       "      <td>24.891522</td>\n",
       "      <td>0.109059</td>\n",
       "      <td>4.276477</td>\n",
       "      <td>18.900575</td>\n",
       "      <td>98.613971</td>\n",
       "      <td>0.293314</td>\n",
       "      <td>0.086033</td>\n",
       "      <td>0.530941</td>\n",
       "      <td>4.473346</td>\n",
       "      <td>0.981939</td>\n",
       "      <td>7.458341e-155</td>\n",
       "    </tr>\n",
       "    <tr>\n",
       "      <th>1</th>\n",
       "      <td>Image2</td>\n",
       "      <td>0</td>\n",
       "      <td>8.749969</td>\n",
       "      <td>805.957634</td>\n",
       "      <td>28.389393</td>\n",
       "      <td>0.266538</td>\n",
       "      <td>3.718116</td>\n",
       "      <td>14.464618</td>\n",
       "      <td>63.858816</td>\n",
       "      <td>0.475051</td>\n",
       "      <td>0.225674</td>\n",
       "      <td>0.651352</td>\n",
       "      <td>3.220072</td>\n",
       "      <td>0.988834</td>\n",
       "      <td>7.458341e-155</td>\n",
       "    </tr>\n",
       "    <tr>\n",
       "      <th>2</th>\n",
       "      <td>Image3</td>\n",
       "      <td>1</td>\n",
       "      <td>7.341095</td>\n",
       "      <td>1143.808219</td>\n",
       "      <td>33.820234</td>\n",
       "      <td>0.001467</td>\n",
       "      <td>5.061750</td>\n",
       "      <td>26.479563</td>\n",
       "      <td>81.867206</td>\n",
       "      <td>0.031917</td>\n",
       "      <td>0.001019</td>\n",
       "      <td>0.268275</td>\n",
       "      <td>5.981800</td>\n",
       "      <td>0.978014</td>\n",
       "      <td>7.458341e-155</td>\n",
       "    </tr>\n",
       "    <tr>\n",
       "      <th>3</th>\n",
       "      <td>Image4</td>\n",
       "      <td>1</td>\n",
       "      <td>5.958145</td>\n",
       "      <td>959.711985</td>\n",
       "      <td>30.979219</td>\n",
       "      <td>0.001477</td>\n",
       "      <td>5.677977</td>\n",
       "      <td>33.428845</td>\n",
       "      <td>151.229741</td>\n",
       "      <td>0.032024</td>\n",
       "      <td>0.001026</td>\n",
       "      <td>0.243851</td>\n",
       "      <td>7.700919</td>\n",
       "      <td>0.964189</td>\n",
       "      <td>7.458341e-155</td>\n",
       "    </tr>\n",
       "    <tr>\n",
       "      <th>4</th>\n",
       "      <td>Image5</td>\n",
       "      <td>0</td>\n",
       "      <td>7.315231</td>\n",
       "      <td>729.540579</td>\n",
       "      <td>27.010009</td>\n",
       "      <td>0.146761</td>\n",
       "      <td>4.283221</td>\n",
       "      <td>19.079108</td>\n",
       "      <td>174.988756</td>\n",
       "      <td>0.343849</td>\n",
       "      <td>0.118232</td>\n",
       "      <td>0.501140</td>\n",
       "      <td>6.834689</td>\n",
       "      <td>0.972789</td>\n",
       "      <td>7.458341e-155</td>\n",
       "    </tr>\n",
       "    <tr>\n",
       "      <th>...</th>\n",
       "      <td>...</td>\n",
       "      <td>...</td>\n",
       "      <td>...</td>\n",
       "      <td>...</td>\n",
       "      <td>...</td>\n",
       "      <td>...</td>\n",
       "      <td>...</td>\n",
       "      <td>...</td>\n",
       "      <td>...</td>\n",
       "      <td>...</td>\n",
       "      <td>...</td>\n",
       "      <td>...</td>\n",
       "      <td>...</td>\n",
       "      <td>...</td>\n",
       "      <td>...</td>\n",
       "    </tr>\n",
       "    <tr>\n",
       "      <th>3757</th>\n",
       "      <td>Image3758</td>\n",
       "      <td>0</td>\n",
       "      <td>21.234512</td>\n",
       "      <td>1208.850174</td>\n",
       "      <td>34.768523</td>\n",
       "      <td>0.063774</td>\n",
       "      <td>2.082079</td>\n",
       "      <td>4.647310</td>\n",
       "      <td>158.437600</td>\n",
       "      <td>0.220666</td>\n",
       "      <td>0.048693</td>\n",
       "      <td>0.487131</td>\n",
       "      <td>5.211739</td>\n",
       "      <td>0.950972</td>\n",
       "      <td>7.458341e-155</td>\n",
       "    </tr>\n",
       "    <tr>\n",
       "      <th>3758</th>\n",
       "      <td>Image3759</td>\n",
       "      <td>0</td>\n",
       "      <td>20.435349</td>\n",
       "      <td>1227.151440</td>\n",
       "      <td>35.030721</td>\n",
       "      <td>0.066763</td>\n",
       "      <td>2.144625</td>\n",
       "      <td>4.882034</td>\n",
       "      <td>161.158675</td>\n",
       "      <td>0.225931</td>\n",
       "      <td>0.051045</td>\n",
       "      <td>0.502712</td>\n",
       "      <td>5.083126</td>\n",
       "      <td>0.952749</td>\n",
       "      <td>7.458341e-155</td>\n",
       "    </tr>\n",
       "    <tr>\n",
       "      <th>3759</th>\n",
       "      <td>Image3760</td>\n",
       "      <td>0</td>\n",
       "      <td>18.011520</td>\n",
       "      <td>1151.582765</td>\n",
       "      <td>33.934978</td>\n",
       "      <td>0.068396</td>\n",
       "      <td>2.308349</td>\n",
       "      <td>5.579498</td>\n",
       "      <td>167.130118</td>\n",
       "      <td>0.228930</td>\n",
       "      <td>0.052409</td>\n",
       "      <td>0.492269</td>\n",
       "      <td>5.103700</td>\n",
       "      <td>0.952181</td>\n",
       "      <td>7.458341e-155</td>\n",
       "    </tr>\n",
       "    <tr>\n",
       "      <th>3760</th>\n",
       "      <td>Image3761</td>\n",
       "      <td>0</td>\n",
       "      <td>13.330429</td>\n",
       "      <td>945.732779</td>\n",
       "      <td>30.752769</td>\n",
       "      <td>0.087872</td>\n",
       "      <td>2.732822</td>\n",
       "      <td>7.757570</td>\n",
       "      <td>223.812932</td>\n",
       "      <td>0.261527</td>\n",
       "      <td>0.068397</td>\n",
       "      <td>0.480064</td>\n",
       "      <td>6.439784</td>\n",
       "      <td>0.940898</td>\n",
       "      <td>7.458341e-155</td>\n",
       "    </tr>\n",
       "    <tr>\n",
       "      <th>3761</th>\n",
       "      <td>Image3762</td>\n",
       "      <td>0</td>\n",
       "      <td>6.110138</td>\n",
       "      <td>480.884025</td>\n",
       "      <td>21.929068</td>\n",
       "      <td>0.118171</td>\n",
       "      <td>4.110669</td>\n",
       "      <td>17.538826</td>\n",
       "      <td>239.251388</td>\n",
       "      <td>0.306224</td>\n",
       "      <td>0.093773</td>\n",
       "      <td>0.494333</td>\n",
       "      <td>6.787329</td>\n",
       "      <td>0.938731</td>\n",
       "      <td>7.458341e-155</td>\n",
       "    </tr>\n",
       "  </tbody>\n",
       "</table>\n",
       "<p>3762 rows × 15 columns</p>\n",
       "</div>"
      ],
      "text/plain": [
       "          Image  Class       Mean     Variance  Standard Deviation   Entropy  \\\n",
       "0        Image1      0   6.535339   619.587845           24.891522  0.109059   \n",
       "1        Image2      0   8.749969   805.957634           28.389393  0.266538   \n",
       "2        Image3      1   7.341095  1143.808219           33.820234  0.001467   \n",
       "3        Image4      1   5.958145   959.711985           30.979219  0.001477   \n",
       "4        Image5      0   7.315231   729.540579           27.010009  0.146761   \n",
       "...         ...    ...        ...          ...                 ...       ...   \n",
       "3757  Image3758      0  21.234512  1208.850174           34.768523  0.063774   \n",
       "3758  Image3759      0  20.435349  1227.151440           35.030721  0.066763   \n",
       "3759  Image3760      0  18.011520  1151.582765           33.934978  0.068396   \n",
       "3760  Image3761      0  13.330429   945.732779           30.752769  0.087872   \n",
       "3761  Image3762      0   6.110138   480.884025           21.929068  0.118171   \n",
       "\n",
       "      Skewness   Kurtosis    Contrast    Energy       ASM  Homogeneity  \\\n",
       "0     4.276477  18.900575   98.613971  0.293314  0.086033     0.530941   \n",
       "1     3.718116  14.464618   63.858816  0.475051  0.225674     0.651352   \n",
       "2     5.061750  26.479563   81.867206  0.031917  0.001019     0.268275   \n",
       "3     5.677977  33.428845  151.229741  0.032024  0.001026     0.243851   \n",
       "4     4.283221  19.079108  174.988756  0.343849  0.118232     0.501140   \n",
       "...        ...        ...         ...       ...       ...          ...   \n",
       "3757  2.082079   4.647310  158.437600  0.220666  0.048693     0.487131   \n",
       "3758  2.144625   4.882034  161.158675  0.225931  0.051045     0.502712   \n",
       "3759  2.308349   5.579498  167.130118  0.228930  0.052409     0.492269   \n",
       "3760  2.732822   7.757570  223.812932  0.261527  0.068397     0.480064   \n",
       "3761  4.110669  17.538826  239.251388  0.306224  0.093773     0.494333   \n",
       "\n",
       "      Dissimilarity  Correlation     Coarseness  \n",
       "0          4.473346     0.981939  7.458341e-155  \n",
       "1          3.220072     0.988834  7.458341e-155  \n",
       "2          5.981800     0.978014  7.458341e-155  \n",
       "3          7.700919     0.964189  7.458341e-155  \n",
       "4          6.834689     0.972789  7.458341e-155  \n",
       "...             ...          ...            ...  \n",
       "3757       5.211739     0.950972  7.458341e-155  \n",
       "3758       5.083126     0.952749  7.458341e-155  \n",
       "3759       5.103700     0.952181  7.458341e-155  \n",
       "3760       6.439784     0.940898  7.458341e-155  \n",
       "3761       6.787329     0.938731  7.458341e-155  \n",
       "\n",
       "[3762 rows x 15 columns]"
      ]
     },
     "execution_count": 33,
     "metadata": {},
     "output_type": "execute_result"
    }
   ],
   "source": [
    "dataset=pd.read_csv('Brain Tumor.csv')\n",
    "dataset"
   ]
  },
  {
   "cell_type": "code",
   "execution_count": 34,
   "id": "94f847d7-2744-4d93-bd01-e50141b5ccbf",
   "metadata": {},
   "outputs": [
    {
     "data": {
      "image/png": "[encoded data removed]",
      "text/plain": [
       "<Figure size 1440x1440 with 4 Axes>"
      ]
     },
     "metadata": {
      "needs_background": "light"
     },
     "output_type": "display_data"
    }
   ],
   "source": [
    "plt.figure(figsize=(20,20))\n",
    "folder='Brain Tumor'\n",
    "for i in range(4):\n",
    "    file=random.choice(os.listdir(folder))\n",
    "    image_path=os.path.join(folder,file)\n",
    "    img=mpimg.imread(image_path)\n",
    "    ax=plt.subplot(1,5,i+1)\n",
    "    ax.title.set_text(file)\n",
    "    plt.imshow(img)\n"
   ]
  },
  {
   "cell_type": "code",
   "execution_count": 35,
   "id": "8f8aa315-9b47-4f55-abe1-7ce2c3cd57c7",
   "metadata": {},
   "outputs": [
    {
     "data": {
      "text/html": [
       "<div>\n",
       "<style scoped>\n",
       "    .dataframe tbody tr th:only-of-type {\n",
       "        vertical-align: middle;\n",
       "    }\n",
       "\n",
       "    .dataframe tbody tr th {\n",
       "        vertical-align: top;\n",
       "    }\n",
       "\n",
       "    .dataframe thead th {\n",
       "        text-align: right;\n",
       "    }\n",
       "</style>\n",
       "<table border=\"1\" class=\"dataframe\">\n",
       "  <thead>\n",
       "    <tr style=\"text-align: right;\">\n",
       "      <th></th>\n",
       "      <th>Image</th>\n",
       "      <th>Class</th>\n",
       "      <th>Mean</th>\n",
       "      <th>Variance</th>\n",
       "      <th>Standard Deviation</th>\n",
       "      <th>Entropy</th>\n",
       "      <th>Skewness</th>\n",
       "      <th>Kurtosis</th>\n",
       "      <th>Contrast</th>\n",
       "      <th>Energy</th>\n",
       "      <th>ASM</th>\n",
       "      <th>Homogeneity</th>\n",
       "      <th>Dissimilarity</th>\n",
       "      <th>Correlation</th>\n",
       "      <th>Coarseness</th>\n",
       "    </tr>\n",
       "  </thead>\n",
       "  <tbody>\n",
       "    <tr>\n",
       "      <th>0</th>\n",
       "      <td>Image1</td>\n",
       "      <td>0</td>\n",
       "      <td>-0.515700</td>\n",
       "      <td>-0.195790</td>\n",
       "      <td>-0.033144</td>\n",
       "      <td>0.504650</td>\n",
       "      <td>0.067855</td>\n",
       "      <td>-0.097267</td>\n",
       "      <td>-0.268050</td>\n",
       "      <td>0.685118</td>\n",
       "      <td>0.470073</td>\n",
       "      <td>0.404100</td>\n",
       "      <td>-0.121709</td>\n",
       "      <td>1.000713</td>\n",
       "      <td>-1.117857e-168</td>\n",
       "    </tr>\n",
       "    <tr>\n",
       "      <th>1</th>\n",
       "      <td>Image2</td>\n",
       "      <td>0</td>\n",
       "      <td>-0.129018</td>\n",
       "      <td>0.202943</td>\n",
       "      <td>0.365594</td>\n",
       "      <td>2.746050</td>\n",
       "      <td>-0.150204</td>\n",
       "      <td>-0.175881</td>\n",
       "      <td>-0.585492</td>\n",
       "      <td>2.090287</td>\n",
       "      <td>2.865580</td>\n",
       "      <td>1.345457</td>\n",
       "      <td>-0.799181</td>\n",
       "      <td>1.264377</td>\n",
       "      <td>-1.117857e-168</td>\n",
       "    </tr>\n",
       "    <tr>\n",
       "      <th>2</th>\n",
       "      <td>Image3</td>\n",
       "      <td>1</td>\n",
       "      <td>-0.375013</td>\n",
       "      <td>0.925765</td>\n",
       "      <td>0.984680</td>\n",
       "      <td>-1.026708</td>\n",
       "      <td>0.374531</td>\n",
       "      <td>0.037048</td>\n",
       "      <td>-0.421010</td>\n",
       "      <td>-1.335981</td>\n",
       "      <td>-0.988340</td>\n",
       "      <td>-1.649391</td>\n",
       "      <td>0.693704</td>\n",
       "      <td>0.850636</td>\n",
       "      <td>-1.117857e-168</td>\n",
       "    </tr>\n",
       "    <tr>\n",
       "      <th>3</th>\n",
       "      <td>Image4</td>\n",
       "      <td>1</td>\n",
       "      <td>-0.616481</td>\n",
       "      <td>0.531896</td>\n",
       "      <td>0.660820</td>\n",
       "      <td>-1.026561</td>\n",
       "      <td>0.615188</td>\n",
       "      <td>0.160202</td>\n",
       "      <td>0.212525</td>\n",
       "      <td>-1.335154</td>\n",
       "      <td>-0.988223</td>\n",
       "      <td>-1.840334</td>\n",
       "      <td>1.622995</td>\n",
       "      <td>0.322041</td>\n",
       "      <td>-1.117857e-168</td>\n",
       "    </tr>\n",
       "    <tr>\n",
       "      <th>4</th>\n",
       "      <td>Image5</td>\n",
       "      <td>0</td>\n",
       "      <td>-0.379529</td>\n",
       "      <td>0.039451</td>\n",
       "      <td>0.208352</td>\n",
       "      <td>1.041256</td>\n",
       "      <td>0.070489</td>\n",
       "      <td>-0.094103</td>\n",
       "      <td>0.429532</td>\n",
       "      <td>1.075849</td>\n",
       "      <td>1.022442</td>\n",
       "      <td>0.171115</td>\n",
       "      <td>1.154744</td>\n",
       "      <td>0.650854</td>\n",
       "      <td>-1.117857e-168</td>\n",
       "    </tr>\n",
       "    <tr>\n",
       "      <th>...</th>\n",
       "      <td>...</td>\n",
       "      <td>...</td>\n",
       "      <td>...</td>\n",
       "      <td>...</td>\n",
       "      <td>...</td>\n",
       "      <td>...</td>\n",
       "      <td>...</td>\n",
       "      <td>...</td>\n",
       "      <td>...</td>\n",
       "      <td>...</td>\n",
       "      <td>...</td>\n",
       "      <td>...</td>\n",
       "      <td>...</td>\n",
       "      <td>...</td>\n",
       "      <td>...</td>\n",
       "    </tr>\n",
       "    <tr>\n",
       "      <th>3757</th>\n",
       "      <td>Image3758</td>\n",
       "      <td>0</td>\n",
       "      <td>2.050827</td>\n",
       "      <td>1.064921</td>\n",
       "      <td>1.092779</td>\n",
       "      <td>-0.139892</td>\n",
       "      <td>-0.789131</td>\n",
       "      <td>-0.349862</td>\n",
       "      <td>0.278359</td>\n",
       "      <td>0.123407</td>\n",
       "      <td>-0.170487</td>\n",
       "      <td>0.061596</td>\n",
       "      <td>0.277439</td>\n",
       "      <td>-0.183335</td>\n",
       "      <td>1.338116e-167</td>\n",
       "    </tr>\n",
       "    <tr>\n",
       "      <th>3758</th>\n",
       "      <td>Image3759</td>\n",
       "      <td>0</td>\n",
       "      <td>1.911290</td>\n",
       "      <td>1.104076</td>\n",
       "      <td>1.122668</td>\n",
       "      <td>-0.097345</td>\n",
       "      <td>-0.764704</td>\n",
       "      <td>-0.345702</td>\n",
       "      <td>0.303212</td>\n",
       "      <td>0.164116</td>\n",
       "      <td>-0.130150</td>\n",
       "      <td>0.183409</td>\n",
       "      <td>0.207915</td>\n",
       "      <td>-0.115377</td>\n",
       "      <td>1.338116e-167</td>\n",
       "    </tr>\n",
       "    <tr>\n",
       "      <th>3759</th>\n",
       "      <td>Image3760</td>\n",
       "      <td>0</td>\n",
       "      <td>1.488082</td>\n",
       "      <td>0.942399</td>\n",
       "      <td>0.997760</td>\n",
       "      <td>-0.074100</td>\n",
       "      <td>-0.700765</td>\n",
       "      <td>-0.333342</td>\n",
       "      <td>0.357754</td>\n",
       "      <td>0.187301</td>\n",
       "      <td>-0.106751</td>\n",
       "      <td>0.101766</td>\n",
       "      <td>0.219037</td>\n",
       "      <td>-0.137095</td>\n",
       "      <td>1.338116e-167</td>\n",
       "    </tr>\n",
       "    <tr>\n",
       "      <th>3760</th>\n",
       "      <td>Image3761</td>\n",
       "      <td>0</td>\n",
       "      <td>0.670746</td>\n",
       "      <td>0.501988</td>\n",
       "      <td>0.635006</td>\n",
       "      <td>0.203090</td>\n",
       "      <td>-0.534994</td>\n",
       "      <td>-0.294742</td>\n",
       "      <td>0.875475</td>\n",
       "      <td>0.439344</td>\n",
       "      <td>0.167517</td>\n",
       "      <td>0.006346</td>\n",
       "      <td>0.941273</td>\n",
       "      <td>-0.568517</td>\n",
       "      <td>1.338116e-167</td>\n",
       "    </tr>\n",
       "    <tr>\n",
       "      <th>3761</th>\n",
       "      <td>Image3762</td>\n",
       "      <td>0</td>\n",
       "      <td>-0.589942</td>\n",
       "      <td>-0.492543</td>\n",
       "      <td>-0.370847</td>\n",
       "      <td>0.634342</td>\n",
       "      <td>0.003102</td>\n",
       "      <td>-0.121400</td>\n",
       "      <td>1.016485</td>\n",
       "      <td>0.784933</td>\n",
       "      <td>0.602848</td>\n",
       "      <td>0.117900</td>\n",
       "      <td>1.129143</td>\n",
       "      <td>-0.651387</td>\n",
       "      <td>1.348053e-167</td>\n",
       "    </tr>\n",
       "  </tbody>\n",
       "</table>\n",
       "<p>3762 rows × 15 columns</p>\n",
       "</div>"
      ],
      "text/plain": [
       "          Image  Class      Mean  Variance  Standard Deviation   Entropy  \\\n",
       "0        Image1      0 -0.515700 -0.195790           -0.033144  0.504650   \n",
       "1        Image2      0 -0.129018  0.202943            0.365594  2.746050   \n",
       "2        Image3      1 -0.375013  0.925765            0.984680 -1.026708   \n",
       "3        Image4      1 -0.616481  0.531896            0.660820 -1.026561   \n",
       "4        Image5      0 -0.379529  0.039451            0.208352  1.041256   \n",
       "...         ...    ...       ...       ...                 ...       ...   \n",
       "3757  Image3758      0  2.050827  1.064921            1.092779 -0.139892   \n",
       "3758  Image3759      0  1.911290  1.104076            1.122668 -0.097345   \n",
       "3759  Image3760      0  1.488082  0.942399            0.997760 -0.074100   \n",
       "3760  Image3761      0  0.670746  0.501988            0.635006  0.203090   \n",
       "3761  Image3762      0 -0.589942 -0.492543           -0.370847  0.634342   \n",
       "\n",
       "      Skewness  Kurtosis  Contrast    Energy       ASM  Homogeneity  \\\n",
       "0     0.067855 -0.097267 -0.268050  0.685118  0.470073     0.404100   \n",
       "1    -0.150204 -0.175881 -0.585492  2.090287  2.865580     1.345457   \n",
       "2     0.374531  0.037048 -0.421010 -1.335981 -0.988340    -1.649391   \n",
       "3     0.615188  0.160202  0.212525 -1.335154 -0.988223    -1.840334   \n",
       "4     0.070489 -0.094103  0.429532  1.075849  1.022442     0.171115   \n",
       "...        ...       ...       ...       ...       ...          ...   \n",
       "3757 -0.789131 -0.349862  0.278359  0.123407 -0.170487     0.061596   \n",
       "3758 -0.764704 -0.345702  0.303212  0.164116 -0.130150     0.183409   \n",
       "3759 -0.700765 -0.333342  0.357754  0.187301 -0.106751     0.101766   \n",
       "3760 -0.534994 -0.294742  0.875475  0.439344  0.167517     0.006346   \n",
       "3761  0.003102 -0.121400  1.016485  0.784933  0.602848     0.117900   \n",
       "\n",
       "      Dissimilarity  Correlation     Coarseness  \n",
       "0         -0.121709     1.000713 -1.117857e-168  \n",
       "1         -0.799181     1.264377 -1.117857e-168  \n",
       "2          0.693704     0.850636 -1.117857e-168  \n",
       "3          1.622995     0.322041 -1.117857e-168  \n",
       "4          1.154744     0.650854 -1.117857e-168  \n",
       "...             ...          ...            ...  \n",
       "3757       0.277439    -0.183335  1.338116e-167  \n",
       "3758       0.207915    -0.115377  1.338116e-167  \n",
       "3759       0.219037    -0.137095  1.338116e-167  \n",
       "3760       0.941273    -0.568517  1.338116e-167  \n",
       "3761       1.129143    -0.651387  1.348053e-167  \n",
       "\n",
       "[3762 rows x 15 columns]"
      ]
     },
     "execution_count": 35,
     "metadata": {},
     "output_type": "execute_result"
    }
   ],
   "source": [
    "Features_Scaling=['Mean', 'Variance', 'Standard Deviation', 'Entropy','Skewness', 'Kurtosis', 'Contrast', 'Energy', 'ASM', 'Homogeneity','Dissimilarity',\n",
    "                  'Correlation', 'Coarseness']\n",
    "dataset[Features_Scaling]=StandardScaler().fit_transform(dataset[Features_Scaling])\n",
    "dataset"
   ]
  },
  {
   "cell_type": "code",
   "execution_count": 36,
   "id": "3eedf800-1922-4a49-b38e-68cd8027fc13",
   "metadata": {},
   "outputs": [],
   "source": [
    "# PCA Dimension Reduction\n",
    "data_prep=dataset.drop(['Image','Class'],axis=1,inplace=False)\n",
    "pca=PCA(n_components=2)\n",
    "pca_data=pca.fit_transform(data_prep)"
   ]
  },
  {
   "cell_type": "code",
   "execution_count": 37,
   "id": "f1a524c3-6378-4bc5-8930-ec16b7dd4f4e",
   "metadata": {},
   "outputs": [],
   "source": [
    "pca_dataframe=pd.DataFrame(data=pca_data,columns=['PCA-1','PCA-2'])\n"
   ]
  },
  {
   "cell_type": "code",
   "execution_count": 38,
   "id": "5179822e-ec54-4272-8856-7951975975e9",
   "metadata": {},
   "outputs": [
    {
     "data": {
      "text/html": [
       "<div>\n",
       "<style scoped>\n",
       "    .dataframe tbody tr th:only-of-type {\n",
       "        vertical-align: middle;\n",
       "    }\n",
       "\n",
       "    .dataframe tbody tr th {\n",
       "        vertical-align: top;\n",
       "    }\n",
       "\n",
       "    .dataframe thead th {\n",
       "        text-align: right;\n",
       "    }\n",
       "</style>\n",
       "<table border=\"1\" class=\"dataframe\">\n",
       "  <thead>\n",
       "    <tr style=\"text-align: right;\">\n",
       "      <th></th>\n",
       "      <th>Image</th>\n",
       "      <th>Class</th>\n",
       "      <th>Mean</th>\n",
       "      <th>Variance</th>\n",
       "      <th>Standard Deviation</th>\n",
       "      <th>Entropy</th>\n",
       "      <th>Skewness</th>\n",
       "      <th>Kurtosis</th>\n",
       "      <th>Contrast</th>\n",
       "      <th>Energy</th>\n",
       "      <th>ASM</th>\n",
       "      <th>Homogeneity</th>\n",
       "      <th>Dissimilarity</th>\n",
       "      <th>Correlation</th>\n",
       "      <th>Coarseness</th>\n",
       "      <th>PCA-1</th>\n",
       "      <th>PCA-2</th>\n",
       "    </tr>\n",
       "  </thead>\n",
       "  <tbody>\n",
       "    <tr>\n",
       "      <th>3757</th>\n",
       "      <td>Image3758</td>\n",
       "      <td>0</td>\n",
       "      <td>2.050827</td>\n",
       "      <td>1.064921</td>\n",
       "      <td>1.092779</td>\n",
       "      <td>-0.139892</td>\n",
       "      <td>-0.789131</td>\n",
       "      <td>-0.349862</td>\n",
       "      <td>0.278359</td>\n",
       "      <td>0.123407</td>\n",
       "      <td>-0.170487</td>\n",
       "      <td>0.061596</td>\n",
       "      <td>0.277439</td>\n",
       "      <td>-0.183335</td>\n",
       "      <td>1.338116e-167</td>\n",
       "      <td>0.321001</td>\n",
       "      <td>-2.161311</td>\n",
       "    </tr>\n",
       "    <tr>\n",
       "      <th>3758</th>\n",
       "      <td>Image3759</td>\n",
       "      <td>0</td>\n",
       "      <td>1.911290</td>\n",
       "      <td>1.104076</td>\n",
       "      <td>1.122668</td>\n",
       "      <td>-0.097345</td>\n",
       "      <td>-0.764704</td>\n",
       "      <td>-0.345702</td>\n",
       "      <td>0.303212</td>\n",
       "      <td>0.164116</td>\n",
       "      <td>-0.130150</td>\n",
       "      <td>0.183409</td>\n",
       "      <td>0.207915</td>\n",
       "      <td>-0.115377</td>\n",
       "      <td>1.338116e-167</td>\n",
       "      <td>0.205905</td>\n",
       "      <td>-2.131569</td>\n",
       "    </tr>\n",
       "    <tr>\n",
       "      <th>3759</th>\n",
       "      <td>Image3760</td>\n",
       "      <td>0</td>\n",
       "      <td>1.488082</td>\n",
       "      <td>0.942399</td>\n",
       "      <td>0.997760</td>\n",
       "      <td>-0.074100</td>\n",
       "      <td>-0.700765</td>\n",
       "      <td>-0.333342</td>\n",
       "      <td>0.357754</td>\n",
       "      <td>0.187301</td>\n",
       "      <td>-0.106751</td>\n",
       "      <td>0.101766</td>\n",
       "      <td>0.219037</td>\n",
       "      <td>-0.137095</td>\n",
       "      <td>1.338116e-167</td>\n",
       "      <td>0.203598</td>\n",
       "      <td>-1.775664</td>\n",
       "    </tr>\n",
       "    <tr>\n",
       "      <th>3760</th>\n",
       "      <td>Image3761</td>\n",
       "      <td>0</td>\n",
       "      <td>0.670746</td>\n",
       "      <td>0.501988</td>\n",
       "      <td>0.635006</td>\n",
       "      <td>0.203090</td>\n",
       "      <td>-0.534994</td>\n",
       "      <td>-0.294742</td>\n",
       "      <td>0.875475</td>\n",
       "      <td>0.439344</td>\n",
       "      <td>0.167517</td>\n",
       "      <td>0.006346</td>\n",
       "      <td>0.941273</td>\n",
       "      <td>-0.568517</td>\n",
       "      <td>1.338116e-167</td>\n",
       "      <td>0.273145</td>\n",
       "      <td>-0.655034</td>\n",
       "    </tr>\n",
       "    <tr>\n",
       "      <th>3761</th>\n",
       "      <td>Image3762</td>\n",
       "      <td>0</td>\n",
       "      <td>-0.589942</td>\n",
       "      <td>-0.492543</td>\n",
       "      <td>-0.370847</td>\n",
       "      <td>0.634342</td>\n",
       "      <td>0.003102</td>\n",
       "      <td>-0.121400</td>\n",
       "      <td>1.016485</td>\n",
       "      <td>0.784933</td>\n",
       "      <td>0.602848</td>\n",
       "      <td>0.117900</td>\n",
       "      <td>1.129143</td>\n",
       "      <td>-0.651387</td>\n",
       "      <td>1.348053e-167</td>\n",
       "      <td>-0.308959</td>\n",
       "      <td>1.213269</td>\n",
       "    </tr>\n",
       "  </tbody>\n",
       "</table>\n",
       "</div>"
      ],
      "text/plain": [
       "          Image  Class      Mean  Variance  Standard Deviation   Entropy  \\\n",
       "3757  Image3758      0  2.050827  1.064921            1.092779 -0.139892   \n",
       "3758  Image3759      0  1.911290  1.104076            1.122668 -0.097345   \n",
       "3759  Image3760      0  1.488082  0.942399            0.997760 -0.074100   \n",
       "3760  Image3761      0  0.670746  0.501988            0.635006  0.203090   \n",
       "3761  Image3762      0 -0.589942 -0.492543           -0.370847  0.634342   \n",
       "\n",
       "      Skewness  Kurtosis  Contrast    Energy       ASM  Homogeneity  \\\n",
       "3757 -0.789131 -0.349862  0.278359  0.123407 -0.170487     0.061596   \n",
       "3758 -0.764704 -0.345702  0.303212  0.164116 -0.130150     0.183409   \n",
       "3759 -0.700765 -0.333342  0.357754  0.187301 -0.106751     0.101766   \n",
       "3760 -0.534994 -0.294742  0.875475  0.439344  0.167517     0.006346   \n",
       "3761  0.003102 -0.121400  1.016485  0.784933  0.602848     0.117900   \n",
       "\n",
       "      Dissimilarity  Correlation     Coarseness     PCA-1     PCA-2  \n",
       "3757       0.277439    -0.183335  1.338116e-167  0.321001 -2.161311  \n",
       "3758       0.207915    -0.115377  1.338116e-167  0.205905 -2.131569  \n",
       "3759       0.219037    -0.137095  1.338116e-167  0.203598 -1.775664  \n",
       "3760       0.941273    -0.568517  1.338116e-167  0.273145 -0.655034  \n",
       "3761       1.129143    -0.651387  1.348053e-167 -0.308959  1.213269  "
      ]
     },
     "execution_count": 38,
     "metadata": {},
     "output_type": "execute_result"
    }
   ],
   "source": [
    "df=pd.DataFrame(dataset)\n",
    "df['PCA-1']=pca_dataframe['PCA-1']\n",
    "df['PCA-2']=pca_dataframe['PCA-2']\n",
    "df.tail()"
   ]
  },
  {
   "cell_type": "code",
   "execution_count": 39,
   "id": "db3075d1-85a5-408e-9067-fcae725f36cc",
   "metadata": {},
   "outputs": [
    {
     "name": "stdout",
     "output_type": "stream",
     "text": [
      "X_train Shape = (3009, 2)\n",
      "X_test Shape = (753, 2)\n",
      "Y_train Shape = (3009,)\n",
      "Y_test Shape = (753,)\n"
     ]
    }
   ],
   "source": [
    "#Data Spliting Operation \n",
    "X=df[['PCA-1','PCA-2']]\n",
    "X=np.array(X)\n",
    "Y=dataset['Class']\n",
    "Y=np.array(Y)\n",
    "\n",
    "# Splitting Data ----> 20 percent of data is used for testing, and 80 percent of data is used for trainning\n",
    "X_train,X_test, Y_train, Y_test=train_test_split(X,Y,test_size=0.2) \n",
    "print('X_train Shape =', X_train.shape)\n",
    "print('X_test Shape =', X_test.shape)\n",
    "print('Y_train Shape =', Y_train.shape)\n",
    "print('Y_test Shape =', Y_test.shape)"
   ]
  },
  {
   "cell_type": "code",
   "execution_count": 40,
   "id": "d51115bc-65ee-4cdb-8e39-e3e0cd376f8d",
   "metadata": {},
   "outputs": [],
   "source": [
    "#Training Data Frame With Class Labels\n",
    "x_train=pd.DataFrame(data=X_train,columns=['PCA-1','PCA-2'])\n",
    "x_train['Class']=pd.DataFrame(Y_train)"
   ]
  },
  {
   "cell_type": "code",
   "execution_count": 41,
   "id": "a0e8277a-f708-4f71-bc57-b2b146ff53da",
   "metadata": {},
   "outputs": [
    {
     "name": "stderr",
     "output_type": "stream",
     "text": [
      "C:\\Users\\okanc\\anaconda3\\lib\\site-packages\\seaborn\\_decorators.py:36: FutureWarning: Pass the following variables as keyword args: x, y, data. From version 0.12, the only valid positional argument will be `data`, and passing other arguments without an explicit keyword will result in an error or misinterpretation.\n",
      "  warnings.warn(\n"
     ]
    },
    {
     "data": {
      "image/png": "[encoded data removed]",
      "text/plain": [
       "<Figure size 432x216 with 1 Axes>"
      ]
     },
     "metadata": {
      "needs_background": "light"
     },
     "output_type": "display_data"
    }
   ],
   "source": [
    "#Plotting Training Samples\n",
    "sns.lmplot('PCA-1','PCA-2',x_train,hue='Class',fit_reg=False)\n",
    "fig = plt.gcf()\n",
    "fig.set_size_inches(6, 3)\n",
    "plt.show()"
   ]
  },
  {
   "cell_type": "code",
   "execution_count": 42,
   "id": "53c2d2a6-0540-43c5-9588-676ff8d824e8",
   "metadata": {},
   "outputs": [
    {
     "data": {
      "text/plain": [
       "KNeighborsClassifier()"
      ]
     },
     "execution_count": 42,
     "metadata": {},
     "output_type": "execute_result"
    }
   ],
   "source": [
    "# K-Nearest Neighbor Classification\n",
    "knn = KNeighborsClassifier(n_neighbors = 5,metric='minkowski',p=2) # KNN model for k=5 Nearest Neighbor and Eucledian Distance p=2\n",
    "knn.fit(X_train, Y_train)"
   ]
  },
  {
   "cell_type": "code",
   "execution_count": 43,
   "id": "f11d74ce-20cd-4ef1-9969-b6bf95414b09",
   "metadata": {},
   "outputs": [
    {
     "name": "stdout",
     "output_type": "stream",
     "text": [
      "Accuracy of K-NN Classifier on Training Set: 0.97\n",
      "Accuracy of K-NN Classifier on Test Set: 0.95\n"
     ]
    }
   ],
   "source": [
    "#Checking Performance\n",
    "print('Accuracy of K-NN Classifier on Training Set:','%.2f'%(knn.score(X_train, Y_train)))\n",
    "print('Accuracy of K-NN Classifier on Test Set:','%.2f'%(knn.score(X_test, Y_test)))"
   ]
  },
  {
   "cell_type": "code",
   "execution_count": 44,
   "id": "4f01efc1-fa98-4e93-bd15-da6e8317e741",
   "metadata": {},
   "outputs": [],
   "source": [
    "Y_Predict_knn=knn.predict(X_test)"
   ]
  },
  {
   "cell_type": "code",
   "execution_count": 45,
   "id": "f6d62c10-2218-42c5-873a-db79631b7eee",
   "metadata": {},
   "outputs": [
    {
     "data": {
      "text/html": [
       "<div>\n",
       "<style scoped>\n",
       "    .dataframe tbody tr th:only-of-type {\n",
       "        vertical-align: middle;\n",
       "    }\n",
       "\n",
       "    .dataframe tbody tr th {\n",
       "        vertical-align: top;\n",
       "    }\n",
       "\n",
       "    .dataframe thead th {\n",
       "        text-align: right;\n",
       "    }\n",
       "</style>\n",
       "<table border=\"1\" class=\"dataframe\">\n",
       "  <thead>\n",
       "    <tr style=\"text-align: right;\">\n",
       "      <th></th>\n",
       "      <th>Predicted Tumor</th>\n",
       "      <th>Predicted Non-Tumor</th>\n",
       "    </tr>\n",
       "  </thead>\n",
       "  <tbody>\n",
       "    <tr>\n",
       "      <th>Tumor</th>\n",
       "      <td>306</td>\n",
       "      <td>25</td>\n",
       "    </tr>\n",
       "    <tr>\n",
       "      <th>Non-Tumor</th>\n",
       "      <td>10</td>\n",
       "      <td>412</td>\n",
       "    </tr>\n",
       "  </tbody>\n",
       "</table>\n",
       "</div>"
      ],
      "text/plain": [
       "           Predicted Tumor  Predicted Non-Tumor\n",
       "Tumor                  306                   25\n",
       "Non-Tumor               10                  412"
      ]
     },
     "execution_count": 45,
     "metadata": {},
     "output_type": "execute_result"
    }
   ],
   "source": [
    "cm=np.array(confusion_matrix(Y_test,Y_Predict_knn,labels=[1,0]))\n",
    "confusion=pd.DataFrame(cm,index=['Tumor','Non-Tumor'],columns=['Predicted Tumor','Predicted Non-Tumor'])\n",
    "confusion"
   ]
  },
  {
   "cell_type": "code",
   "execution_count": 46,
   "id": "8b1df619-fd3b-4a65-91d1-c001c9c4fa62",
   "metadata": {},
   "outputs": [],
   "source": [
    "knn_report=classification_report(Y_test,Y_Predict_knn)"
   ]
  },
  {
   "cell_type": "code",
   "execution_count": 47,
   "id": "4507111f-74d7-4159-835e-60fc0cb3122d",
   "metadata": {},
   "outputs": [
    {
     "data": {
      "image/png": "[encoded data removed]",
      "text/plain": [
       "<Figure size 432x288 with 1 Axes>"
      ]
     },
     "metadata": {
      "needs_background": "light"
     },
     "output_type": "display_data"
    }
   ],
   "source": [
    "x= df[['PCA-1','PCA-2']].values\n",
    "y = df['Class'].astype(int).values\n",
    "\n",
    "plot_decision_regions(x, y, clf=knn, legend=2)\n",
    "plt.xlabel('PCA-1')\n",
    "plt.ylabel('PCA-2')\n",
    "plt.title('K-NN with k = 5')\n",
    "plt.show() "
   ]
  },
  {
   "cell_type": "code",
   "execution_count": 48,
   "id": "ff6b74c7-4c9e-446e-a8a5-0e3f3984eb07",
   "metadata": {},
   "outputs": [],
   "source": [
    "# Support Vector Machine Classification\n",
    "svm=SVC(kernel='rbf')"
   ]
  },
  {
   "cell_type": "code",
   "execution_count": 49,
   "id": "005ab44d-a160-4285-b850-687445b71ecd",
   "metadata": {},
   "outputs": [
    {
     "data": {
      "text/plain": [
       "SVC()"
      ]
     },
     "execution_count": 49,
     "metadata": {},
     "output_type": "execute_result"
    }
   ],
   "source": [
    "svm.fit(X_train,Y_train)"
   ]
  },
  {
   "cell_type": "code",
   "execution_count": 50,
   "id": "5030f65e-2e6c-44d2-8ac5-edfe9b2a8f2c",
   "metadata": {},
   "outputs": [
    {
     "name": "stdout",
     "output_type": "stream",
     "text": [
      "Accuracy of SVM Classifier on Training Set: 0.96\n",
      "Accuracy of SVM Classifier on Test Set: 0.96\n"
     ]
    }
   ],
   "source": [
    "#Checking Performance\n",
    "print('Accuracy of SVM Classifier on Training Set:','%.2f'%(svm.score(X_train, Y_train)))\n",
    "print('Accuracy of SVM Classifier on Test Set:','%.2f'%(svm.score(X_test, Y_test)))"
   ]
  },
  {
   "cell_type": "code",
   "execution_count": 51,
   "id": "4ce6a7a2-2d92-434f-a8f9-526416cdaad6",
   "metadata": {},
   "outputs": [],
   "source": [
    "Y_Predict_svm=svm.predict(X_test)"
   ]
  },
  {
   "cell_type": "code",
   "execution_count": 52,
   "id": "089b16a3-ba66-47f9-bfbd-79726c862bde",
   "metadata": {},
   "outputs": [
    {
     "data": {
      "text/html": [
       "<div>\n",
       "<style scoped>\n",
       "    .dataframe tbody tr th:only-of-type {\n",
       "        vertical-align: middle;\n",
       "    }\n",
       "\n",
       "    .dataframe tbody tr th {\n",
       "        vertical-align: top;\n",
       "    }\n",
       "\n",
       "    .dataframe thead th {\n",
       "        text-align: right;\n",
       "    }\n",
       "</style>\n",
       "<table border=\"1\" class=\"dataframe\">\n",
       "  <thead>\n",
       "    <tr style=\"text-align: right;\">\n",
       "      <th></th>\n",
       "      <th>Predicted Tumor</th>\n",
       "      <th>Predicted Non-Tumor</th>\n",
       "    </tr>\n",
       "  </thead>\n",
       "  <tbody>\n",
       "    <tr>\n",
       "      <th>Tumor</th>\n",
       "      <td>306</td>\n",
       "      <td>25</td>\n",
       "    </tr>\n",
       "    <tr>\n",
       "      <th>Non-Tumor</th>\n",
       "      <td>8</td>\n",
       "      <td>414</td>\n",
       "    </tr>\n",
       "  </tbody>\n",
       "</table>\n",
       "</div>"
      ],
      "text/plain": [
       "           Predicted Tumor  Predicted Non-Tumor\n",
       "Tumor                  306                   25\n",
       "Non-Tumor                8                  414"
      ]
     },
     "execution_count": 52,
     "metadata": {},
     "output_type": "execute_result"
    }
   ],
   "source": [
    "cm=np.array(confusion_matrix(Y_test,Y_Predict_svm,labels=[1,0]))\n",
    "confusion=pd.DataFrame(cm,index=['Tumor','Non-Tumor'],columns=['Predicted Tumor','Predicted Non-Tumor'])\n",
    "confusion"
   ]
  },
  {
   "cell_type": "code",
   "execution_count": 53,
   "id": "224d0621-006b-4020-bee3-6f92d84fbfa6",
   "metadata": {},
   "outputs": [],
   "source": [
    "svm_report=classification_report(Y_test,Y_Predict_svm)"
   ]
  },
  {
   "cell_type": "code",
   "execution_count": 54,
   "id": "9d761706-e6a1-43b2-b85d-eea55b64cee7",
   "metadata": {},
   "outputs": [
    {
     "data": {
      "image/png": "[encoded data removed]",
      "text/plain": [
       "<Figure size 432x288 with 1 Axes>"
      ]
     },
     "metadata": {
      "needs_background": "light"
     },
     "output_type": "display_data"
    }
   ],
   "source": [
    "x= df[['PCA-1','PCA-2']].values\n",
    "y = df['Class'].astype(int).values\n",
    "\n",
    "plot_decision_regions(x, y, clf=svm, legend=2)\n",
    "plt.xlabel('PCA-1')\n",
    "plt.ylabel('PCA-2')\n",
    "plt.title('SVM Classification')\n",
    "plt.show() "
   ]
  },
  {
   "cell_type": "code",
   "execution_count": 55,
   "id": "25f0cb21-23fb-4a49-afef-666c7a628885",
   "metadata": {},
   "outputs": [],
   "source": [
    "# Naive Bayes Classification\n",
    "naive_bayes=GaussianNB()"
   ]
  },
  {
   "cell_type": "code",
   "execution_count": 56,
   "id": "a1279d7b-b516-41f9-98fb-86cb3d24cb3b",
   "metadata": {},
   "outputs": [
    {
     "data": {
      "text/plain": [
       "GaussianNB()"
      ]
     },
     "execution_count": 56,
     "metadata": {},
     "output_type": "execute_result"
    }
   ],
   "source": [
    "naive_bayes.fit(X_train,Y_train)"
   ]
  },
  {
   "cell_type": "code",
   "execution_count": 57,
   "id": "5861492f-14ce-47be-a4ce-027087732945",
   "metadata": {},
   "outputs": [
    {
     "name": "stdout",
     "output_type": "stream",
     "text": [
      "Accuracy of Naive Bayes Classifier on Training Set: 0.95\n",
      "Accuracy of Naive Bayes Classifier on Test Set: 0.95\n"
     ]
    }
   ],
   "source": [
    "#Checking Performance\n",
    "print('Accuracy of Naive Bayes Classifier on Training Set:','%.2f'%(naive_bayes.score(X_train, Y_train)))\n",
    "print('Accuracy of Naive Bayes Classifier on Test Set:','%.2f'%(naive_bayes.score(X_test, Y_test)))"
   ]
  },
  {
   "cell_type": "code",
   "execution_count": 58,
   "id": "1084a1d2-94c5-466a-856e-6ab2a5e7757c",
   "metadata": {},
   "outputs": [],
   "source": [
    "Y_Predict_naive_bayes=naive_bayes.predict(X_test)"
   ]
  },
  {
   "cell_type": "code",
   "execution_count": 59,
   "id": "c2ab5c2c-22bd-4588-bbc8-f79e5e625cec",
   "metadata": {},
   "outputs": [
    {
     "data": {
      "text/html": [
       "<div>\n",
       "<style scoped>\n",
       "    .dataframe tbody tr th:only-of-type {\n",
       "        vertical-align: middle;\n",
       "    }\n",
       "\n",
       "    .dataframe tbody tr th {\n",
       "        vertical-align: top;\n",
       "    }\n",
       "\n",
       "    .dataframe thead th {\n",
       "        text-align: right;\n",
       "    }\n",
       "</style>\n",
       "<table border=\"1\" class=\"dataframe\">\n",
       "  <thead>\n",
       "    <tr style=\"text-align: right;\">\n",
       "      <th></th>\n",
       "      <th>Predicted Tumor</th>\n",
       "      <th>Predicted Non-Tumor</th>\n",
       "    </tr>\n",
       "  </thead>\n",
       "  <tbody>\n",
       "    <tr>\n",
       "      <th>Tumor</th>\n",
       "      <td>310</td>\n",
       "      <td>21</td>\n",
       "    </tr>\n",
       "    <tr>\n",
       "      <th>Non-Tumor</th>\n",
       "      <td>13</td>\n",
       "      <td>409</td>\n",
       "    </tr>\n",
       "  </tbody>\n",
       "</table>\n",
       "</div>"
      ],
      "text/plain": [
       "           Predicted Tumor  Predicted Non-Tumor\n",
       "Tumor                  310                   21\n",
       "Non-Tumor               13                  409"
      ]
     },
     "execution_count": 59,
     "metadata": {},
     "output_type": "execute_result"
    }
   ],
   "source": [
    "cm=np.array(confusion_matrix(Y_test,Y_Predict_naive_bayes,labels=[1,0]))\n",
    "confusion=pd.DataFrame(cm,index=['Tumor','Non-Tumor'],columns=['Predicted Tumor','Predicted Non-Tumor'])\n",
    "confusion"
   ]
  },
  {
   "cell_type": "code",
   "execution_count": 60,
   "id": "283534dd-7d0e-41d5-acef-f6fcf3bb9ddf",
   "metadata": {},
   "outputs": [],
   "source": [
    "naive_bayes_report=classification_report(Y_test,Y_Predict_naive_bayes)"
   ]
  },
  {
   "cell_type": "code",
   "execution_count": 61,
   "id": "7a2581f9-11ff-4e57-88a5-a1f216800654",
   "metadata": {},
   "outputs": [
    {
     "data": {
      "image/png": "[encoded data removed]",
      "text/plain": [
       "<Figure size 432x288 with 1 Axes>"
      ]
     },
     "metadata": {
      "needs_background": "light"
     },
     "output_type": "display_data"
    }
   ],
   "source": [
    "x= df[['PCA-1','PCA-2']].values\n",
    "y = df['Class'].astype(int).values\n",
    "\n",
    "plot_decision_regions(x, y, clf=naive_bayes, legend=2)\n",
    "plt.xlabel('PCA-1')\n",
    "plt.ylabel('PCA-2')\n",
    "plt.title('Naive Bayes Classification')\n",
    "plt.show() "
   ]
  },
  {
   "cell_type": "code",
   "execution_count": 62,
   "id": "bd2a43c0-f2f2-43e7-be0f-19d5bb5dfaac",
   "metadata": {},
   "outputs": [
    {
     "name": "stdout",
     "output_type": "stream",
     "text": [
      "-----------------------SVM Report-----------------------\n",
      "               precision    recall  f1-score   support\n",
      "\n",
      "           0       0.94      0.98      0.96       422\n",
      "           1       0.97      0.92      0.95       331\n",
      "\n",
      "    accuracy                           0.96       753\n",
      "   macro avg       0.96      0.95      0.96       753\n",
      "weighted avg       0.96      0.96      0.96       753\n",
      "\n",
      "\n",
      " \n",
      "-----------------------KNN Report-----------------------\n",
      "               precision    recall  f1-score   support\n",
      "\n",
      "           0       0.94      0.98      0.96       422\n",
      "           1       0.97      0.92      0.95       331\n",
      "\n",
      "    accuracy                           0.95       753\n",
      "   macro avg       0.96      0.95      0.95       753\n",
      "weighted avg       0.95      0.95      0.95       753\n",
      "\n",
      "\n",
      " \n",
      "---------------------Naive Bayes Report---------------------\n",
      "               precision    recall  f1-score   support\n",
      "\n",
      "           0       0.95      0.97      0.96       422\n",
      "           1       0.96      0.94      0.95       331\n",
      "\n",
      "    accuracy                           0.95       753\n",
      "   macro avg       0.96      0.95      0.95       753\n",
      "weighted avg       0.95      0.95      0.95       753\n",
      "\n"
     ]
    }
   ],
   "source": [
    "print('-----------------------SVM Report-----------------------\\n',svm_report)\n",
    "print('\\n \\n-----------------------KNN Report-----------------------\\n',knn_report)\n",
    "print('\\n \\n---------------------Naive Bayes Report---------------------\\n',naive_bayes_report)"
   ]
  },
  {
   "cell_type": "code",
   "execution_count": null,
   "id": "887c0e1d-d3f1-4c25-ad39-448e86fe1acd",
   "metadata": {},
   "outputs": [],
   "source": []
  }
 ],
 "metadata": {
  "kernelspec": {
   "display_name": "Python 3 (ipykernel)",
   "language": "python",
   "name": "python3"
  },
  "language_info": {
   "codemirror_mode": {
    "name": "ipython",
    "version": 3
   },
   "file_extension": ".py",
   "mimetype": "text/x-python",
   "name": "python",
   "nbconvert_exporter": "python",
   "pygments_lexer": "ipython3",
   "version": "3.9.7"
  }
 },
 "nbformat": 4,
 "nbformat_minor": 5
}
