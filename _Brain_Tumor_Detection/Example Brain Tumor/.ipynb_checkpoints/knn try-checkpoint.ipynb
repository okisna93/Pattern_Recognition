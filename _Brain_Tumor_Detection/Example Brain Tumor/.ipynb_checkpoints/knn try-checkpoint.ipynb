{
 "cells": [
  {
   "cell_type": "code",
   "execution_count": 62,
   "id": "c75d67fc-8182-4266-9060-2564f7dfee2c",
   "metadata": {},
   "outputs": [],
   "source": [
    "import numpy as np \n",
    "import matplotlib.pyplot as plt\n",
    "import seaborn as sns\n",
    "from sklearn.model_selection import train_test_split\n",
    "from sklearn.preprocessing import StandardScaler\n",
    "import pandas as pd\n",
    "import cv2\n",
    "from sklearn.neighbors import KNeighborsClassifier\n",
    "import os\n",
    "from sklearn.decomposition import PCA\n",
    "from numba import jit, cuda\n",
    "from sklearn import neighbors\n",
    "from mlxtend.plotting import plot_decision_regions\n",
    "from sklearn.svm import SVC\n",
    "from sklearn.metrics import classification_report, confusion_matrix\n",
    "from sklearn.naive_bayes import GaussianNB\n",
    "import random\n",
    "import matplotlib.image as mpimg\n",
    "%matplotlib inline"
   ]
  },
  {
   "cell_type": "code",
   "execution_count": 63,
   "id": "9f08b991-81b2-44c0-bce8-3a96ad17176f",
   "metadata": {},
   "outputs": [
    {
     "data": {
      "text/html": [
       "<div>\n",
       "<style scoped>\n",
       "    .dataframe tbody tr th:only-of-type {\n",
       "        vertical-align: middle;\n",
       "    }\n",
       "\n",
       "    .dataframe tbody tr th {\n",
       "        vertical-align: top;\n",
       "    }\n",
       "\n",
       "    .dataframe thead th {\n",
       "        text-align: right;\n",
       "    }\n",
       "</style>\n",
       "<table border=\"1\" class=\"dataframe\">\n",
       "  <thead>\n",
       "    <tr style=\"text-align: right;\">\n",
       "      <th></th>\n",
       "      <th>Image</th>\n",
       "      <th>Class</th>\n",
       "      <th>Mean</th>\n",
       "      <th>Variance</th>\n",
       "      <th>Standard Deviation</th>\n",
       "      <th>Entropy</th>\n",
       "      <th>Skewness</th>\n",
       "      <th>Kurtosis</th>\n",
       "      <th>Contrast</th>\n",
       "      <th>Energy</th>\n",
       "      <th>ASM</th>\n",
       "      <th>Homogeneity</th>\n",
       "      <th>Dissimilarity</th>\n",
       "      <th>Correlation</th>\n",
       "      <th>Coarseness</th>\n",
       "    </tr>\n",
       "  </thead>\n",
       "  <tbody>\n",
       "    <tr>\n",
       "      <th>0</th>\n",
       "      <td>Image1</td>\n",
       "      <td>0</td>\n",
       "      <td>6.535339</td>\n",
       "      <td>619.587845</td>\n",
       "      <td>24.891522</td>\n",
       "      <td>0.109059</td>\n",
       "      <td>4.276477</td>\n",
       "      <td>18.900575</td>\n",
       "      <td>98.613971</td>\n",
       "      <td>0.293314</td>\n",
       "      <td>0.086033</td>\n",
       "      <td>0.530941</td>\n",
       "      <td>4.473346</td>\n",
       "      <td>0.981939</td>\n",
       "      <td>7.458341e-155</td>\n",
       "    </tr>\n",
       "    <tr>\n",
       "      <th>1</th>\n",
       "      <td>Image2</td>\n",
       "      <td>0</td>\n",
       "      <td>8.749969</td>\n",
       "      <td>805.957634</td>\n",
       "      <td>28.389393</td>\n",
       "      <td>0.266538</td>\n",
       "      <td>3.718116</td>\n",
       "      <td>14.464618</td>\n",
       "      <td>63.858816</td>\n",
       "      <td>0.475051</td>\n",
       "      <td>0.225674</td>\n",
       "      <td>0.651352</td>\n",
       "      <td>3.220072</td>\n",
       "      <td>0.988834</td>\n",
       "      <td>7.458341e-155</td>\n",
       "    </tr>\n",
       "    <tr>\n",
       "      <th>2</th>\n",
       "      <td>Image3</td>\n",
       "      <td>1</td>\n",
       "      <td>7.341095</td>\n",
       "      <td>1143.808219</td>\n",
       "      <td>33.820234</td>\n",
       "      <td>0.001467</td>\n",
       "      <td>5.061750</td>\n",
       "      <td>26.479563</td>\n",
       "      <td>81.867206</td>\n",
       "      <td>0.031917</td>\n",
       "      <td>0.001019</td>\n",
       "      <td>0.268275</td>\n",
       "      <td>5.981800</td>\n",
       "      <td>0.978014</td>\n",
       "      <td>7.458341e-155</td>\n",
       "    </tr>\n",
       "    <tr>\n",
       "      <th>3</th>\n",
       "      <td>Image4</td>\n",
       "      <td>1</td>\n",
       "      <td>5.958145</td>\n",
       "      <td>959.711985</td>\n",
       "      <td>30.979219</td>\n",
       "      <td>0.001477</td>\n",
       "      <td>5.677977</td>\n",
       "      <td>33.428845</td>\n",
       "      <td>151.229741</td>\n",
       "      <td>0.032024</td>\n",
       "      <td>0.001026</td>\n",
       "      <td>0.243851</td>\n",
       "      <td>7.700919</td>\n",
       "      <td>0.964189</td>\n",
       "      <td>7.458341e-155</td>\n",
       "    </tr>\n",
       "    <tr>\n",
       "      <th>4</th>\n",
       "      <td>Image5</td>\n",
       "      <td>0</td>\n",
       "      <td>7.315231</td>\n",
       "      <td>729.540579</td>\n",
       "      <td>27.010009</td>\n",
       "      <td>0.146761</td>\n",
       "      <td>4.283221</td>\n",
       "      <td>19.079108</td>\n",
       "      <td>174.988756</td>\n",
       "      <td>0.343849</td>\n",
       "      <td>0.118232</td>\n",
       "      <td>0.501140</td>\n",
       "      <td>6.834689</td>\n",
       "      <td>0.972789</td>\n",
       "      <td>7.458341e-155</td>\n",
       "    </tr>\n",
       "    <tr>\n",
       "      <th>...</th>\n",
       "      <td>...</td>\n",
       "      <td>...</td>\n",
       "      <td>...</td>\n",
       "      <td>...</td>\n",
       "      <td>...</td>\n",
       "      <td>...</td>\n",
       "      <td>...</td>\n",
       "      <td>...</td>\n",
       "      <td>...</td>\n",
       "      <td>...</td>\n",
       "      <td>...</td>\n",
       "      <td>...</td>\n",
       "      <td>...</td>\n",
       "      <td>...</td>\n",
       "      <td>...</td>\n",
       "    </tr>\n",
       "    <tr>\n",
       "      <th>3757</th>\n",
       "      <td>Image3758</td>\n",
       "      <td>0</td>\n",
       "      <td>21.234512</td>\n",
       "      <td>1208.850174</td>\n",
       "      <td>34.768523</td>\n",
       "      <td>0.063774</td>\n",
       "      <td>2.082079</td>\n",
       "      <td>4.647310</td>\n",
       "      <td>158.437600</td>\n",
       "      <td>0.220666</td>\n",
       "      <td>0.048693</td>\n",
       "      <td>0.487131</td>\n",
       "      <td>5.211739</td>\n",
       "      <td>0.950972</td>\n",
       "      <td>7.458341e-155</td>\n",
       "    </tr>\n",
       "    <tr>\n",
       "      <th>3758</th>\n",
       "      <td>Image3759</td>\n",
       "      <td>0</td>\n",
       "      <td>20.435349</td>\n",
       "      <td>1227.151440</td>\n",
       "      <td>35.030721</td>\n",
       "      <td>0.066763</td>\n",
       "      <td>2.144625</td>\n",
       "      <td>4.882034</td>\n",
       "      <td>161.158675</td>\n",
       "      <td>0.225931</td>\n",
       "      <td>0.051045</td>\n",
       "      <td>0.502712</td>\n",
       "      <td>5.083126</td>\n",
       "      <td>0.952749</td>\n",
       "      <td>7.458341e-155</td>\n",
       "    </tr>\n",
       "    <tr>\n",
       "      <th>3759</th>\n",
       "      <td>Image3760</td>\n",
       "      <td>0</td>\n",
       "      <td>18.011520</td>\n",
       "      <td>1151.582765</td>\n",
       "      <td>33.934978</td>\n",
       "      <td>0.068396</td>\n",
       "      <td>2.308349</td>\n",
       "      <td>5.579498</td>\n",
       "      <td>167.130118</td>\n",
       "      <td>0.228930</td>\n",
       "      <td>0.052409</td>\n",
       "      <td>0.492269</td>\n",
       "      <td>5.103700</td>\n",
       "      <td>0.952181</td>\n",
       "      <td>7.458341e-155</td>\n",
       "    </tr>\n",
       "    <tr>\n",
       "      <th>3760</th>\n",
       "      <td>Image3761</td>\n",
       "      <td>0</td>\n",
       "      <td>13.330429</td>\n",
       "      <td>945.732779</td>\n",
       "      <td>30.752769</td>\n",
       "      <td>0.087872</td>\n",
       "      <td>2.732822</td>\n",
       "      <td>7.757570</td>\n",
       "      <td>223.812932</td>\n",
       "      <td>0.261527</td>\n",
       "      <td>0.068397</td>\n",
       "      <td>0.480064</td>\n",
       "      <td>6.439784</td>\n",
       "      <td>0.940898</td>\n",
       "      <td>7.458341e-155</td>\n",
       "    </tr>\n",
       "    <tr>\n",
       "      <th>3761</th>\n",
       "      <td>Image3762</td>\n",
       "      <td>0</td>\n",
       "      <td>6.110138</td>\n",
       "      <td>480.884025</td>\n",
       "      <td>21.929068</td>\n",
       "      <td>0.118171</td>\n",
       "      <td>4.110669</td>\n",
       "      <td>17.538826</td>\n",
       "      <td>239.251388</td>\n",
       "      <td>0.306224</td>\n",
       "      <td>0.093773</td>\n",
       "      <td>0.494333</td>\n",
       "      <td>6.787329</td>\n",
       "      <td>0.938731</td>\n",
       "      <td>7.458341e-155</td>\n",
       "    </tr>\n",
       "  </tbody>\n",
       "</table>\n",
       "<p>3762 rows × 15 columns</p>\n",
       "</div>"
      ],
      "text/plain": [
       "          Image  Class       Mean     Variance  Standard Deviation   Entropy  \\\n",
       "0        Image1      0   6.535339   619.587845           24.891522  0.109059   \n",
       "1        Image2      0   8.749969   805.957634           28.389393  0.266538   \n",
       "2        Image3      1   7.341095  1143.808219           33.820234  0.001467   \n",
       "3        Image4      1   5.958145   959.711985           30.979219  0.001477   \n",
       "4        Image5      0   7.315231   729.540579           27.010009  0.146761   \n",
       "...         ...    ...        ...          ...                 ...       ...   \n",
       "3757  Image3758      0  21.234512  1208.850174           34.768523  0.063774   \n",
       "3758  Image3759      0  20.435349  1227.151440           35.030721  0.066763   \n",
       "3759  Image3760      0  18.011520  1151.582765           33.934978  0.068396   \n",
       "3760  Image3761      0  13.330429   945.732779           30.752769  0.087872   \n",
       "3761  Image3762      0   6.110138   480.884025           21.929068  0.118171   \n",
       "\n",
       "      Skewness   Kurtosis    Contrast    Energy       ASM  Homogeneity  \\\n",
       "0     4.276477  18.900575   98.613971  0.293314  0.086033     0.530941   \n",
       "1     3.718116  14.464618   63.858816  0.475051  0.225674     0.651352   \n",
       "2     5.061750  26.479563   81.867206  0.031917  0.001019     0.268275   \n",
       "3     5.677977  33.428845  151.229741  0.032024  0.001026     0.243851   \n",
       "4     4.283221  19.079108  174.988756  0.343849  0.118232     0.501140   \n",
       "...        ...        ...         ...       ...       ...          ...   \n",
       "3757  2.082079   4.647310  158.437600  0.220666  0.048693     0.487131   \n",
       "3758  2.144625   4.882034  161.158675  0.225931  0.051045     0.502712   \n",
       "3759  2.308349   5.579498  167.130118  0.228930  0.052409     0.492269   \n",
       "3760  2.732822   7.757570  223.812932  0.261527  0.068397     0.480064   \n",
       "3761  4.110669  17.538826  239.251388  0.306224  0.093773     0.494333   \n",
       "\n",
       "      Dissimilarity  Correlation     Coarseness  \n",
       "0          4.473346     0.981939  7.458341e-155  \n",
       "1          3.220072     0.988834  7.458341e-155  \n",
       "2          5.981800     0.978014  7.458341e-155  \n",
       "3          7.700919     0.964189  7.458341e-155  \n",
       "4          6.834689     0.972789  7.458341e-155  \n",
       "...             ...          ...            ...  \n",
       "3757       5.211739     0.950972  7.458341e-155  \n",
       "3758       5.083126     0.952749  7.458341e-155  \n",
       "3759       5.103700     0.952181  7.458341e-155  \n",
       "3760       6.439784     0.940898  7.458341e-155  \n",
       "3761       6.787329     0.938731  7.458341e-155  \n",
       "\n",
       "[3762 rows x 15 columns]"
      ]
     },
     "execution_count": 63,
     "metadata": {},
     "output_type": "execute_result"
    }
   ],
   "source": [
    "dataset=pd.read_csv('Brain Tumor.csv')\n",
    "dataset"
   ]
  },
  {
   "cell_type": "code",
   "execution_count": 64,
   "id": "e76738a9-d720-4663-91c4-fe6eed357786",
   "metadata": {},
   "outputs": [
    {
     "data": {
      "text/html": [
       "<div>\n",
       "<style scoped>\n",
       "    .dataframe tbody tr th:only-of-type {\n",
       "        vertical-align: middle;\n",
       "    }\n",
       "\n",
       "    .dataframe tbody tr th {\n",
       "        vertical-align: top;\n",
       "    }\n",
       "\n",
       "    .dataframe thead th {\n",
       "        text-align: right;\n",
       "    }\n",
       "</style>\n",
       "<table border=\"1\" class=\"dataframe\">\n",
       "  <thead>\n",
       "    <tr style=\"text-align: right;\">\n",
       "      <th></th>\n",
       "      <th>Image</th>\n",
       "      <th>Class</th>\n",
       "      <th>Mean</th>\n",
       "      <th>Variance</th>\n",
       "      <th>Standard Deviation</th>\n",
       "      <th>Entropy</th>\n",
       "      <th>Skewness</th>\n",
       "      <th>Kurtosis</th>\n",
       "      <th>Contrast</th>\n",
       "      <th>Energy</th>\n",
       "      <th>ASM</th>\n",
       "      <th>Homogeneity</th>\n",
       "      <th>Dissimilarity</th>\n",
       "      <th>Correlation</th>\n",
       "      <th>Coarseness</th>\n",
       "    </tr>\n",
       "  </thead>\n",
       "  <tbody>\n",
       "    <tr>\n",
       "      <th>0</th>\n",
       "      <td>Image1</td>\n",
       "      <td>0</td>\n",
       "      <td>-0.515700</td>\n",
       "      <td>-0.195790</td>\n",
       "      <td>-0.033144</td>\n",
       "      <td>0.504650</td>\n",
       "      <td>0.067855</td>\n",
       "      <td>-0.097267</td>\n",
       "      <td>-0.268050</td>\n",
       "      <td>0.685118</td>\n",
       "      <td>0.470073</td>\n",
       "      <td>0.404100</td>\n",
       "      <td>-0.121709</td>\n",
       "      <td>1.000713</td>\n",
       "      <td>-1.117857e-168</td>\n",
       "    </tr>\n",
       "    <tr>\n",
       "      <th>1</th>\n",
       "      <td>Image2</td>\n",
       "      <td>0</td>\n",
       "      <td>-0.129018</td>\n",
       "      <td>0.202943</td>\n",
       "      <td>0.365594</td>\n",
       "      <td>2.746050</td>\n",
       "      <td>-0.150204</td>\n",
       "      <td>-0.175881</td>\n",
       "      <td>-0.585492</td>\n",
       "      <td>2.090287</td>\n",
       "      <td>2.865580</td>\n",
       "      <td>1.345457</td>\n",
       "      <td>-0.799181</td>\n",
       "      <td>1.264377</td>\n",
       "      <td>-1.117857e-168</td>\n",
       "    </tr>\n",
       "    <tr>\n",
       "      <th>2</th>\n",
       "      <td>Image3</td>\n",
       "      <td>1</td>\n",
       "      <td>-0.375013</td>\n",
       "      <td>0.925765</td>\n",
       "      <td>0.984680</td>\n",
       "      <td>-1.026708</td>\n",
       "      <td>0.374531</td>\n",
       "      <td>0.037048</td>\n",
       "      <td>-0.421010</td>\n",
       "      <td>-1.335981</td>\n",
       "      <td>-0.988340</td>\n",
       "      <td>-1.649391</td>\n",
       "      <td>0.693704</td>\n",
       "      <td>0.850636</td>\n",
       "      <td>-1.117857e-168</td>\n",
       "    </tr>\n",
       "    <tr>\n",
       "      <th>3</th>\n",
       "      <td>Image4</td>\n",
       "      <td>1</td>\n",
       "      <td>-0.616481</td>\n",
       "      <td>0.531896</td>\n",
       "      <td>0.660820</td>\n",
       "      <td>-1.026561</td>\n",
       "      <td>0.615188</td>\n",
       "      <td>0.160202</td>\n",
       "      <td>0.212525</td>\n",
       "      <td>-1.335154</td>\n",
       "      <td>-0.988223</td>\n",
       "      <td>-1.840334</td>\n",
       "      <td>1.622995</td>\n",
       "      <td>0.322041</td>\n",
       "      <td>-1.117857e-168</td>\n",
       "    </tr>\n",
       "    <tr>\n",
       "      <th>4</th>\n",
       "      <td>Image5</td>\n",
       "      <td>0</td>\n",
       "      <td>-0.379529</td>\n",
       "      <td>0.039451</td>\n",
       "      <td>0.208352</td>\n",
       "      <td>1.041256</td>\n",
       "      <td>0.070489</td>\n",
       "      <td>-0.094103</td>\n",
       "      <td>0.429532</td>\n",
       "      <td>1.075849</td>\n",
       "      <td>1.022442</td>\n",
       "      <td>0.171115</td>\n",
       "      <td>1.154744</td>\n",
       "      <td>0.650854</td>\n",
       "      <td>-1.117857e-168</td>\n",
       "    </tr>\n",
       "    <tr>\n",
       "      <th>...</th>\n",
       "      <td>...</td>\n",
       "      <td>...</td>\n",
       "      <td>...</td>\n",
       "      <td>...</td>\n",
       "      <td>...</td>\n",
       "      <td>...</td>\n",
       "      <td>...</td>\n",
       "      <td>...</td>\n",
       "      <td>...</td>\n",
       "      <td>...</td>\n",
       "      <td>...</td>\n",
       "      <td>...</td>\n",
       "      <td>...</td>\n",
       "      <td>...</td>\n",
       "      <td>...</td>\n",
       "    </tr>\n",
       "    <tr>\n",
       "      <th>3757</th>\n",
       "      <td>Image3758</td>\n",
       "      <td>0</td>\n",
       "      <td>2.050827</td>\n",
       "      <td>1.064921</td>\n",
       "      <td>1.092779</td>\n",
       "      <td>-0.139892</td>\n",
       "      <td>-0.789131</td>\n",
       "      <td>-0.349862</td>\n",
       "      <td>0.278359</td>\n",
       "      <td>0.123407</td>\n",
       "      <td>-0.170487</td>\n",
       "      <td>0.061596</td>\n",
       "      <td>0.277439</td>\n",
       "      <td>-0.183335</td>\n",
       "      <td>1.338116e-167</td>\n",
       "    </tr>\n",
       "    <tr>\n",
       "      <th>3758</th>\n",
       "      <td>Image3759</td>\n",
       "      <td>0</td>\n",
       "      <td>1.911290</td>\n",
       "      <td>1.104076</td>\n",
       "      <td>1.122668</td>\n",
       "      <td>-0.097345</td>\n",
       "      <td>-0.764704</td>\n",
       "      <td>-0.345702</td>\n",
       "      <td>0.303212</td>\n",
       "      <td>0.164116</td>\n",
       "      <td>-0.130150</td>\n",
       "      <td>0.183409</td>\n",
       "      <td>0.207915</td>\n",
       "      <td>-0.115377</td>\n",
       "      <td>1.338116e-167</td>\n",
       "    </tr>\n",
       "    <tr>\n",
       "      <th>3759</th>\n",
       "      <td>Image3760</td>\n",
       "      <td>0</td>\n",
       "      <td>1.488082</td>\n",
       "      <td>0.942399</td>\n",
       "      <td>0.997760</td>\n",
       "      <td>-0.074100</td>\n",
       "      <td>-0.700765</td>\n",
       "      <td>-0.333342</td>\n",
       "      <td>0.357754</td>\n",
       "      <td>0.187301</td>\n",
       "      <td>-0.106751</td>\n",
       "      <td>0.101766</td>\n",
       "      <td>0.219037</td>\n",
       "      <td>-0.137095</td>\n",
       "      <td>1.338116e-167</td>\n",
       "    </tr>\n",
       "    <tr>\n",
       "      <th>3760</th>\n",
       "      <td>Image3761</td>\n",
       "      <td>0</td>\n",
       "      <td>0.670746</td>\n",
       "      <td>0.501988</td>\n",
       "      <td>0.635006</td>\n",
       "      <td>0.203090</td>\n",
       "      <td>-0.534994</td>\n",
       "      <td>-0.294742</td>\n",
       "      <td>0.875475</td>\n",
       "      <td>0.439344</td>\n",
       "      <td>0.167517</td>\n",
       "      <td>0.006346</td>\n",
       "      <td>0.941273</td>\n",
       "      <td>-0.568517</td>\n",
       "      <td>1.338116e-167</td>\n",
       "    </tr>\n",
       "    <tr>\n",
       "      <th>3761</th>\n",
       "      <td>Image3762</td>\n",
       "      <td>0</td>\n",
       "      <td>-0.589942</td>\n",
       "      <td>-0.492543</td>\n",
       "      <td>-0.370847</td>\n",
       "      <td>0.634342</td>\n",
       "      <td>0.003102</td>\n",
       "      <td>-0.121400</td>\n",
       "      <td>1.016485</td>\n",
       "      <td>0.784933</td>\n",
       "      <td>0.602848</td>\n",
       "      <td>0.117900</td>\n",
       "      <td>1.129143</td>\n",
       "      <td>-0.651387</td>\n",
       "      <td>1.348053e-167</td>\n",
       "    </tr>\n",
       "  </tbody>\n",
       "</table>\n",
       "<p>3762 rows × 15 columns</p>\n",
       "</div>"
      ],
      "text/plain": [
       "          Image  Class      Mean  Variance  Standard Deviation   Entropy  \\\n",
       "0        Image1      0 -0.515700 -0.195790           -0.033144  0.504650   \n",
       "1        Image2      0 -0.129018  0.202943            0.365594  2.746050   \n",
       "2        Image3      1 -0.375013  0.925765            0.984680 -1.026708   \n",
       "3        Image4      1 -0.616481  0.531896            0.660820 -1.026561   \n",
       "4        Image5      0 -0.379529  0.039451            0.208352  1.041256   \n",
       "...         ...    ...       ...       ...                 ...       ...   \n",
       "3757  Image3758      0  2.050827  1.064921            1.092779 -0.139892   \n",
       "3758  Image3759      0  1.911290  1.104076            1.122668 -0.097345   \n",
       "3759  Image3760      0  1.488082  0.942399            0.997760 -0.074100   \n",
       "3760  Image3761      0  0.670746  0.501988            0.635006  0.203090   \n",
       "3761  Image3762      0 -0.589942 -0.492543           -0.370847  0.634342   \n",
       "\n",
       "      Skewness  Kurtosis  Contrast    Energy       ASM  Homogeneity  \\\n",
       "0     0.067855 -0.097267 -0.268050  0.685118  0.470073     0.404100   \n",
       "1    -0.150204 -0.175881 -0.585492  2.090287  2.865580     1.345457   \n",
       "2     0.374531  0.037048 -0.421010 -1.335981 -0.988340    -1.649391   \n",
       "3     0.615188  0.160202  0.212525 -1.335154 -0.988223    -1.840334   \n",
       "4     0.070489 -0.094103  0.429532  1.075849  1.022442     0.171115   \n",
       "...        ...       ...       ...       ...       ...          ...   \n",
       "3757 -0.789131 -0.349862  0.278359  0.123407 -0.170487     0.061596   \n",
       "3758 -0.764704 -0.345702  0.303212  0.164116 -0.130150     0.183409   \n",
       "3759 -0.700765 -0.333342  0.357754  0.187301 -0.106751     0.101766   \n",
       "3760 -0.534994 -0.294742  0.875475  0.439344  0.167517     0.006346   \n",
       "3761  0.003102 -0.121400  1.016485  0.784933  0.602848     0.117900   \n",
       "\n",
       "      Dissimilarity  Correlation     Coarseness  \n",
       "0         -0.121709     1.000713 -1.117857e-168  \n",
       "1         -0.799181     1.264377 -1.117857e-168  \n",
       "2          0.693704     0.850636 -1.117857e-168  \n",
       "3          1.622995     0.322041 -1.117857e-168  \n",
       "4          1.154744     0.650854 -1.117857e-168  \n",
       "...             ...          ...            ...  \n",
       "3757       0.277439    -0.183335  1.338116e-167  \n",
       "3758       0.207915    -0.115377  1.338116e-167  \n",
       "3759       0.219037    -0.137095  1.338116e-167  \n",
       "3760       0.941273    -0.568517  1.338116e-167  \n",
       "3761       1.129143    -0.651387  1.348053e-167  \n",
       "\n",
       "[3762 rows x 15 columns]"
      ]
     },
     "execution_count": 64,
     "metadata": {},
     "output_type": "execute_result"
    }
   ],
   "source": [
    "Features_Scaling=['Mean', 'Variance', 'Standard Deviation', 'Entropy',\n",
    "       'Skewness', 'Kurtosis', 'Contrast', 'Energy', 'ASM', 'Homogeneity',\n",
    "       'Dissimilarity', 'Correlation', 'Coarseness']\n",
    "dataset[Features_Scaling]=StandardScaler().fit_transform(dataset[Features_Scaling])\n",
    "dataset"
   ]
  },
  {
   "cell_type": "code",
   "execution_count": 65,
   "id": "15cfd635-7846-4909-94e4-def647b0e85a",
   "metadata": {},
   "outputs": [],
   "source": [
    "# PCA Dimension Reduction\n",
    "data_prep=dataset.drop(['Image','Class'],axis=1,inplace=False)\n",
    "pca=PCA(n_components=2)\n",
    "pca_data=pca.fit_transform(data_prep)"
   ]
  },
  {
   "cell_type": "code",
   "execution_count": 66,
   "id": "360be7f6-f055-4699-930e-e7be37da9511",
   "metadata": {},
   "outputs": [],
   "source": [
    "pca_dataframe=pd.DataFrame(data=pca_data,columns=['PCA-1','PCA-2'])"
   ]
  },
  {
   "cell_type": "code",
   "execution_count": 67,
   "id": "4057a7d4-a060-4b52-9695-3332bfc01af7",
   "metadata": {},
   "outputs": [
    {
     "data": {
      "text/html": [
       "<div>\n",
       "<style scoped>\n",
       "    .dataframe tbody tr th:only-of-type {\n",
       "        vertical-align: middle;\n",
       "    }\n",
       "\n",
       "    .dataframe tbody tr th {\n",
       "        vertical-align: top;\n",
       "    }\n",
       "\n",
       "    .dataframe thead th {\n",
       "        text-align: right;\n",
       "    }\n",
       "</style>\n",
       "<table border=\"1\" class=\"dataframe\">\n",
       "  <thead>\n",
       "    <tr style=\"text-align: right;\">\n",
       "      <th></th>\n",
       "      <th>Image</th>\n",
       "      <th>Class</th>\n",
       "      <th>Mean</th>\n",
       "      <th>Variance</th>\n",
       "      <th>Standard Deviation</th>\n",
       "      <th>Entropy</th>\n",
       "      <th>Skewness</th>\n",
       "      <th>Kurtosis</th>\n",
       "      <th>Contrast</th>\n",
       "      <th>Energy</th>\n",
       "      <th>ASM</th>\n",
       "      <th>Homogeneity</th>\n",
       "      <th>Dissimilarity</th>\n",
       "      <th>Correlation</th>\n",
       "      <th>Coarseness</th>\n",
       "      <th>PCA-1</th>\n",
       "      <th>PCA-2</th>\n",
       "    </tr>\n",
       "  </thead>\n",
       "  <tbody>\n",
       "    <tr>\n",
       "      <th>3757</th>\n",
       "      <td>Image3758</td>\n",
       "      <td>0</td>\n",
       "      <td>2.050827</td>\n",
       "      <td>1.064921</td>\n",
       "      <td>1.092779</td>\n",
       "      <td>-0.139892</td>\n",
       "      <td>-0.789131</td>\n",
       "      <td>-0.349862</td>\n",
       "      <td>0.278359</td>\n",
       "      <td>0.123407</td>\n",
       "      <td>-0.170487</td>\n",
       "      <td>0.061596</td>\n",
       "      <td>0.277439</td>\n",
       "      <td>-0.183335</td>\n",
       "      <td>1.338116e-167</td>\n",
       "      <td>0.321001</td>\n",
       "      <td>-2.161311</td>\n",
       "    </tr>\n",
       "    <tr>\n",
       "      <th>3758</th>\n",
       "      <td>Image3759</td>\n",
       "      <td>0</td>\n",
       "      <td>1.911290</td>\n",
       "      <td>1.104076</td>\n",
       "      <td>1.122668</td>\n",
       "      <td>-0.097345</td>\n",
       "      <td>-0.764704</td>\n",
       "      <td>-0.345702</td>\n",
       "      <td>0.303212</td>\n",
       "      <td>0.164116</td>\n",
       "      <td>-0.130150</td>\n",
       "      <td>0.183409</td>\n",
       "      <td>0.207915</td>\n",
       "      <td>-0.115377</td>\n",
       "      <td>1.338116e-167</td>\n",
       "      <td>0.205905</td>\n",
       "      <td>-2.131569</td>\n",
       "    </tr>\n",
       "    <tr>\n",
       "      <th>3759</th>\n",
       "      <td>Image3760</td>\n",
       "      <td>0</td>\n",
       "      <td>1.488082</td>\n",
       "      <td>0.942399</td>\n",
       "      <td>0.997760</td>\n",
       "      <td>-0.074100</td>\n",
       "      <td>-0.700765</td>\n",
       "      <td>-0.333342</td>\n",
       "      <td>0.357754</td>\n",
       "      <td>0.187301</td>\n",
       "      <td>-0.106751</td>\n",
       "      <td>0.101766</td>\n",
       "      <td>0.219037</td>\n",
       "      <td>-0.137095</td>\n",
       "      <td>1.338116e-167</td>\n",
       "      <td>0.203598</td>\n",
       "      <td>-1.775664</td>\n",
       "    </tr>\n",
       "    <tr>\n",
       "      <th>3760</th>\n",
       "      <td>Image3761</td>\n",
       "      <td>0</td>\n",
       "      <td>0.670746</td>\n",
       "      <td>0.501988</td>\n",
       "      <td>0.635006</td>\n",
       "      <td>0.203090</td>\n",
       "      <td>-0.534994</td>\n",
       "      <td>-0.294742</td>\n",
       "      <td>0.875475</td>\n",
       "      <td>0.439344</td>\n",
       "      <td>0.167517</td>\n",
       "      <td>0.006346</td>\n",
       "      <td>0.941273</td>\n",
       "      <td>-0.568517</td>\n",
       "      <td>1.338116e-167</td>\n",
       "      <td>0.273145</td>\n",
       "      <td>-0.655034</td>\n",
       "    </tr>\n",
       "    <tr>\n",
       "      <th>3761</th>\n",
       "      <td>Image3762</td>\n",
       "      <td>0</td>\n",
       "      <td>-0.589942</td>\n",
       "      <td>-0.492543</td>\n",
       "      <td>-0.370847</td>\n",
       "      <td>0.634342</td>\n",
       "      <td>0.003102</td>\n",
       "      <td>-0.121400</td>\n",
       "      <td>1.016485</td>\n",
       "      <td>0.784933</td>\n",
       "      <td>0.602848</td>\n",
       "      <td>0.117900</td>\n",
       "      <td>1.129143</td>\n",
       "      <td>-0.651387</td>\n",
       "      <td>1.348053e-167</td>\n",
       "      <td>-0.308959</td>\n",
       "      <td>1.213269</td>\n",
       "    </tr>\n",
       "  </tbody>\n",
       "</table>\n",
       "</div>"
      ],
      "text/plain": [
       "          Image  Class      Mean  Variance  Standard Deviation   Entropy  \\\n",
       "3757  Image3758      0  2.050827  1.064921            1.092779 -0.139892   \n",
       "3758  Image3759      0  1.911290  1.104076            1.122668 -0.097345   \n",
       "3759  Image3760      0  1.488082  0.942399            0.997760 -0.074100   \n",
       "3760  Image3761      0  0.670746  0.501988            0.635006  0.203090   \n",
       "3761  Image3762      0 -0.589942 -0.492543           -0.370847  0.634342   \n",
       "\n",
       "      Skewness  Kurtosis  Contrast    Energy       ASM  Homogeneity  \\\n",
       "3757 -0.789131 -0.349862  0.278359  0.123407 -0.170487     0.061596   \n",
       "3758 -0.764704 -0.345702  0.303212  0.164116 -0.130150     0.183409   \n",
       "3759 -0.700765 -0.333342  0.357754  0.187301 -0.106751     0.101766   \n",
       "3760 -0.534994 -0.294742  0.875475  0.439344  0.167517     0.006346   \n",
       "3761  0.003102 -0.121400  1.016485  0.784933  0.602848     0.117900   \n",
       "\n",
       "      Dissimilarity  Correlation     Coarseness     PCA-1     PCA-2  \n",
       "3757       0.277439    -0.183335  1.338116e-167  0.321001 -2.161311  \n",
       "3758       0.207915    -0.115377  1.338116e-167  0.205905 -2.131569  \n",
       "3759       0.219037    -0.137095  1.338116e-167  0.203598 -1.775664  \n",
       "3760       0.941273    -0.568517  1.338116e-167  0.273145 -0.655034  \n",
       "3761       1.129143    -0.651387  1.348053e-167 -0.308959  1.213269  "
      ]
     },
     "execution_count": 67,
     "metadata": {},
     "output_type": "execute_result"
    }
   ],
   "source": [
    "df=pd.DataFrame(dataset)\n",
    "df['PCA-1']=pca_dataframe['PCA-1']\n",
    "df['PCA-2']=pca_dataframe['PCA-2']\n",
    "df.tail()"
   ]
  },
  {
   "cell_type": "code",
   "execution_count": 68,
   "id": "aa0ec178-3f3d-4fa4-89bd-e4d7da318e54",
   "metadata": {},
   "outputs": [
    {
     "name": "stdout",
     "output_type": "stream",
     "text": [
      "X_train Shape = (3009, 2)\n",
      "X_test Shape = (753, 2)\n",
      "Y_train Shape = (3009,)\n",
      "Y_test Shape = (753,)\n"
     ]
    }
   ],
   "source": [
    "#Data Spliting Operation \n",
    "X=df[['PCA-1','PCA-2']]\n",
    "X=np.array(X)\n",
    "Y=dataset['Class']\n",
    "Y=np.array(Y)\n",
    "\n",
    "# Splitting Data ----> 20 percent of data is used for testing, and 80 percent of data is used for trainning\n",
    "X_train,X_test, Y_train, Y_test=train_test_split(X,Y,test_size=0.2) \n",
    "print('X_train Shape =', X_train.shape)\n",
    "print('X_test Shape =', X_test.shape)\n",
    "print('Y_train Shape =', Y_train.shape)\n",
    "print('Y_test Shape =', Y_test.shape)"
   ]
  },
  {
   "cell_type": "code",
   "execution_count": 69,
   "id": "72d5378a-4abb-47c1-8962-12ced3653764",
   "metadata": {},
   "outputs": [],
   "source": [
    "#Training Data Frame With Class Labels\n",
    "x_train=pd.DataFrame(data=X_train,columns=['PCA-1','PCA-2'])\n",
    "x_train['Class']=pd.DataFrame(Y_train)"
   ]
  },
  {
   "cell_type": "code",
   "execution_count": 70,
   "id": "2aa268e2-fe73-47ad-83bd-a55ed6e7b41f",
   "metadata": {},
   "outputs": [
    {
     "name": "stderr",
     "output_type": "stream",
     "text": [
      "C:\\Users\\okanc\\anaconda3\\lib\\site-packages\\seaborn\\_decorators.py:36: FutureWarning: Pass the following variables as keyword args: x, y, data. From version 0.12, the only valid positional argument will be `data`, and passing other arguments without an explicit keyword will result in an error or misinterpretation.\n",
      "  warnings.warn(\n"
     ]
    },
    {
     "data": {
      "image/png": "[encoded data removed]",
      "text/plain": [
       "<Figure size 432x216 with 1 Axes>"
      ]
     },
     "metadata": {
      "needs_background": "light"
     },
     "output_type": "display_data"
    }
   ],
   "source": [
    "#Plotting Training Samples\n",
    "sns.lmplot('PCA-1','PCA-2',x_train,hue='Class',fit_reg=False)\n",
    "fig = plt.gcf()\n",
    "fig.set_size_inches(6, 3)\n",
    "plt.show()"
   ]
  },
  {
   "cell_type": "code",
   "execution_count": 71,
   "id": "b65200d4-356f-419b-ad9e-a1b4367099fa",
   "metadata": {},
   "outputs": [
    {
     "data": {
      "text/plain": [
       "KNeighborsClassifier(n_neighbors=3)"
      ]
     },
     "execution_count": 71,
     "metadata": {},
     "output_type": "execute_result"
    }
   ],
   "source": [
    "# K-Nearest Neighbor Classification\n",
    "knn1 = KNeighborsClassifier(n_neighbors = 3,metric='minkowski',p=2) #setting up the KNN model to use 5 Nearest Neighbor\n",
    "knn1.fit(X_train, Y_train)"
   ]
  },
  {
   "cell_type": "code",
   "execution_count": 72,
   "id": "363a5d44-4cb0-48c5-a219-41d4f7558e07",
   "metadata": {},
   "outputs": [
    {
     "name": "stdout",
     "output_type": "stream",
     "text": [
      "Accuracy of K-NN1 classifier on training set: 0.97\n",
      "Accuracy of K-NN1 classifier on test set: 0.94\n"
     ]
    }
   ],
   "source": [
    "#Checking performance on the training set\n",
    "print('Accuracy of K-NN1 classifier on training set: {:.2f}'\n",
    "     .format(knn1.score(X_train, Y_train)))\n",
    "#Checking performance on the test set\n",
    "print('Accuracy of K-NN1 classifier on test set: {:.2f}'\n",
    "     .format(knn1.score(X_test, Y_test)))\n",
    "score_train1=knn1.score(X_train, Y_train)\n",
    "score_test1=knn1.score(X_test, Y_test)"
   ]
  },
  {
   "cell_type": "code",
   "execution_count": 73,
   "id": "3e04fe69-cde5-4fe9-a161-c35f6888531c",
   "metadata": {},
   "outputs": [
    {
     "data": {
      "text/plain": [
       "KNeighborsClassifier()"
      ]
     },
     "execution_count": 73,
     "metadata": {},
     "output_type": "execute_result"
    }
   ],
   "source": [
    "# K-Nearest Neighbor Classification\n",
    "knn2 = KNeighborsClassifier(n_neighbors = 5,metric='minkowski',p=2) #setting up the KNN model to use 5 Nearest Neighbor\n",
    "knn2.fit(X_train, Y_train)"
   ]
  },
  {
   "cell_type": "code",
   "execution_count": 74,
   "id": "de8a992a-9782-4c07-8733-c09c3f713fab",
   "metadata": {},
   "outputs": [
    {
     "name": "stdout",
     "output_type": "stream",
     "text": [
      "Accuracy of K-NN classifier on training set: 0.97\n",
      "Accuracy of K-NN classifier on test set: 0.95\n"
     ]
    }
   ],
   "source": [
    "#Checking performance on the training set\n",
    "print('Accuracy of K-NN classifier on training set: {:.2f}'\n",
    "     .format(knn2.score(X_train, Y_train)))\n",
    "#Checking performance on the test set\n",
    "print('Accuracy of K-NN classifier on test set: {:.2f}'\n",
    "     .format(knn2.score(X_test, Y_test)))\n",
    "score_train2=knn2.score(X_train, Y_train)\n",
    "score_test2=knn2.score(X_test, Y_test)"
   ]
  },
  {
   "cell_type": "code",
   "execution_count": 75,
   "id": "18a3e34e-a3f4-43b0-b802-64f6b9a980af",
   "metadata": {},
   "outputs": [
    {
     "data": {
      "text/plain": [
       "KNeighborsClassifier(n_neighbors=7)"
      ]
     },
     "execution_count": 75,
     "metadata": {},
     "output_type": "execute_result"
    }
   ],
   "source": [
    "# K-Nearest Neighbor Classification\n",
    "knn3 = KNeighborsClassifier(n_neighbors = 7,metric='minkowski',p=2) #setting up the KNN model to use 5 Nearest Neighbor\n",
    "knn3.fit(X_train, Y_train)"
   ]
  },
  {
   "cell_type": "code",
   "execution_count": 76,
   "id": "7aa82525-2370-4c8a-b4ac-2b0755dad4b4",
   "metadata": {},
   "outputs": [
    {
     "name": "stdout",
     "output_type": "stream",
     "text": [
      "Accuracy of K-NN classifier on training set: 0.97\n",
      "Accuracy of K-NN classifier on test set: 0.95\n"
     ]
    }
   ],
   "source": [
    "#Checking performance on the training set\n",
    "print('Accuracy of K-NN classifier on training set: {:.2f}'\n",
    "     .format(knn3.score(X_train, Y_train)))\n",
    "#Checking performance on the test set\n",
    "print('Accuracy of K-NN classifier on test set: {:.2f}'\n",
    "     .format(knn3.score(X_test, Y_test)))\n",
    "score_train3=knn3.score(X_train, Y_train)\n",
    "score_test3=knn3.score(X_test, Y_test)"
   ]
  },
  {
   "cell_type": "code",
   "execution_count": 77,
   "id": "e675b9f9-30b9-4b96-a817-852e1c8d3915",
   "metadata": {},
   "outputs": [
    {
     "data": {
      "text/plain": [
       "KNeighborsClassifier(n_neighbors=9)"
      ]
     },
     "execution_count": 77,
     "metadata": {},
     "output_type": "execute_result"
    }
   ],
   "source": [
    "# K-Nearest Neighbor Classification\n",
    "knn4 = KNeighborsClassifier(n_neighbors = 9,metric='minkowski',p=2) #setting up the KNN model to use 5 Nearest Neighbor\n",
    "knn4.fit(X_train, Y_train)"
   ]
  },
  {
   "cell_type": "code",
   "execution_count": 78,
   "id": "bd6fd476-cff1-4597-afb9-3768cd1603c2",
   "metadata": {},
   "outputs": [
    {
     "name": "stdout",
     "output_type": "stream",
     "text": [
      "Accuracy of K-NN classifier on training set: 0.96\n",
      "Accuracy of K-NN classifier on test set: 0.95\n"
     ]
    }
   ],
   "source": [
    "#Checking performance on the training set\n",
    "print('Accuracy of K-NN classifier on training set: {:.2f}'\n",
    "     .format(knn4.score(X_train, Y_train)))\n",
    "#Checking performance on the test set\n",
    "print('Accuracy of K-NN classifier on test set: {:.2f}'\n",
    "     .format(knn4.score(X_test, Y_test)))\n",
    "score_train4=knn4.score(X_train, Y_train)\n",
    "score_test4=knn4.score(X_test, Y_test)"
   ]
  },
  {
   "cell_type": "code",
   "execution_count": 79,
   "id": "27651f55-bbd0-4ed1-b4c7-8e9ea526bcf6",
   "metadata": {},
   "outputs": [
    {
     "data": {
      "text/plain": [
       "KNeighborsClassifier(n_neighbors=11)"
      ]
     },
     "execution_count": 79,
     "metadata": {},
     "output_type": "execute_result"
    }
   ],
   "source": [
    "# K-Nearest Neighbor Classification\n",
    "knn5 = KNeighborsClassifier(n_neighbors = 11,metric='minkowski',p=2) #setting up the KNN model to use 5 Nearest Neighbor\n",
    "knn5.fit(X_train, Y_train)"
   ]
  },
  {
   "cell_type": "code",
   "execution_count": 80,
   "id": "a512d300-52a2-40bc-a1c8-0f93b0fac9a5",
   "metadata": {},
   "outputs": [
    {
     "name": "stdout",
     "output_type": "stream",
     "text": [
      "Accuracy of K-NN classifier on training set: 0.96\n",
      "Accuracy of K-NN classifier on test set: 0.95\n"
     ]
    }
   ],
   "source": [
    "#Checking performance on the training set\n",
    "print('Accuracy of K-NN classifier on training set: {:.2f}'\n",
    "     .format(knn5.score(X_train, Y_train)))\n",
    "#Checking performance on the test set\n",
    "print('Accuracy of K-NN classifier on test set: {:.2f}'\n",
    "     .format(knn5.score(X_test, Y_test)))\n",
    "score_train5=knn5.score(X_train, Y_train)\n",
    "score_test5=knn5.score(X_test, Y_test)"
   ]
  },
  {
   "cell_type": "code",
   "execution_count": 81,
   "id": "66ecd54f-fb9e-4aab-88e2-1b14c5f6f908",
   "metadata": {},
   "outputs": [
    {
     "data": {
      "text/plain": [
       "KNeighborsClassifier(n_neighbors=13)"
      ]
     },
     "execution_count": 81,
     "metadata": {},
     "output_type": "execute_result"
    }
   ],
   "source": [
    "# K-Nearest Neighbor Classification\n",
    "knn6 = KNeighborsClassifier(n_neighbors = 13,metric='minkowski',p=2) #setting up the KNN model to use 5 Nearest Neighbor\n",
    "knn6.fit(X_train, Y_train)"
   ]
  },
  {
   "cell_type": "code",
   "execution_count": 82,
   "id": "627b12ca-ee0a-4418-af59-9d70b10f7bfd",
   "metadata": {},
   "outputs": [
    {
     "name": "stdout",
     "output_type": "stream",
     "text": [
      "Accuracy of K-NN classifier on training set: 0.96\n",
      "Accuracy of K-NN classifier on test set: 0.95\n"
     ]
    }
   ],
   "source": [
    "#Checking performance on the training set\n",
    "print('Accuracy of K-NN classifier on training set: {:.2f}'\n",
    "     .format(knn6.score(X_train, Y_train)))\n",
    "#Checking performance on the test set\n",
    "print('Accuracy of K-NN classifier on test set: {:.2f}'\n",
    "     .format(knn6.score(X_test, Y_test)))\n",
    "score_train6=knn6.score(X_train, Y_train)\n",
    "score_test6=knn6.score(X_test, Y_test)"
   ]
  },
  {
   "cell_type": "code",
   "execution_count": 83,
   "id": "2cc07785-39b4-4f19-86d7-1d7b6fa9dae7",
   "metadata": {},
   "outputs": [
    {
     "data": {
      "text/plain": [
       "KNeighborsClassifier(n_neighbors=15)"
      ]
     },
     "execution_count": 83,
     "metadata": {},
     "output_type": "execute_result"
    }
   ],
   "source": [
    "# K-Nearest Neighbor Classification\n",
    "knn7 = KNeighborsClassifier(n_neighbors = 15,metric='minkowski',p=2) #setting up the KNN model to use 5 Nearest Neighbor\n",
    "knn7.fit(X_train, Y_train)"
   ]
  },
  {
   "cell_type": "code",
   "execution_count": 84,
   "id": "33501b13-a897-4e8c-827c-a7d4647761a4",
   "metadata": {},
   "outputs": [
    {
     "name": "stdout",
     "output_type": "stream",
     "text": [
      "Accuracy of K-NN classifier on training set: 0.96\n",
      "Accuracy of K-NN classifier on test set: 0.95\n"
     ]
    }
   ],
   "source": [
    "#Checking performance on the training set\n",
    "print('Accuracy of K-NN classifier on training set: {:.2f}'\n",
    "     .format(knn7.score(X_train, Y_train)))\n",
    "#Checking performance on the test set\n",
    "print('Accuracy of K-NN classifier on test set: {:.2f}'\n",
    "     .format(knn7.score(X_test, Y_test)))\n",
    "score_train7=knn7.score(X_train, Y_train)\n",
    "score_test7=knn7.score(X_test, Y_test)"
   ]
  },
  {
   "cell_type": "code",
   "execution_count": 85,
   "id": "732ada3f-1a52-46ba-a09d-8afb40c3bc32",
   "metadata": {},
   "outputs": [
    {
     "data": {
      "text/plain": [
       "KNeighborsClassifier(n_neighbors=17)"
      ]
     },
     "execution_count": 85,
     "metadata": {},
     "output_type": "execute_result"
    }
   ],
   "source": [
    "# K-Nearest Neighbor Classification\n",
    "knn8 = KNeighborsClassifier(n_neighbors = 17,metric='minkowski',p=2) #setting up the KNN model to use 5 Nearest Neighbor\n",
    "knn8.fit(X_train, Y_train)"
   ]
  },
  {
   "cell_type": "code",
   "execution_count": 86,
   "id": "12973b32-fd58-4e6b-8b05-f3ab54d50f51",
   "metadata": {},
   "outputs": [
    {
     "name": "stdout",
     "output_type": "stream",
     "text": [
      "Accuracy of K-NN classifier on training set: 0.96\n",
      "Accuracy of K-NN classifier on test set: 0.95\n"
     ]
    }
   ],
   "source": [
    "#Checking performance on the training set\n",
    "print('Accuracy of K-NN classifier on training set: {:.2f}'\n",
    "     .format(knn8.score(X_train, Y_train)))\n",
    "#Checking performance on the test set\n",
    "print('Accuracy of K-NN classifier on test set: {:.2f}'\n",
    "     .format(knn8.score(X_test, Y_test)))\n",
    "score_train8=knn8.score(X_train, Y_train)\n",
    "score_test8=knn8.score(X_test, Y_test)"
   ]
  },
  {
   "cell_type": "code",
   "execution_count": 87,
   "id": "c53ebccb-8851-4f7a-a724-7d6378b9ba82",
   "metadata": {},
   "outputs": [
    {
     "data": {
      "text/plain": [
       "KNeighborsClassifier(n_neighbors=19)"
      ]
     },
     "execution_count": 87,
     "metadata": {},
     "output_type": "execute_result"
    }
   ],
   "source": [
    "# K-Nearest Neighbor Classification\n",
    "knn9 = KNeighborsClassifier(n_neighbors = 19,metric='minkowski',p=2) #setting up the KNN model to use 5 Nearest Neighbor\n",
    "knn9.fit(X_train, Y_train)"
   ]
  },
  {
   "cell_type": "code",
   "execution_count": 88,
   "id": "c3585d1c-b2f1-49c2-b1cf-54976cbe4282",
   "metadata": {},
   "outputs": [
    {
     "name": "stdout",
     "output_type": "stream",
     "text": [
      "Accuracy of K-NN classifier on training set: 0.96\n",
      "Accuracy of K-NN classifier on test set: 0.95\n"
     ]
    }
   ],
   "source": [
    "#Checking performance on the training set\n",
    "print('Accuracy of K-NN classifier on training set: {:.2f}'\n",
    "     .format(knn9.score(X_train, Y_train)))\n",
    "#Checking performance on the test set\n",
    "print('Accuracy of K-NN classifier on test set: {:.2f}'\n",
    "     .format(knn9.score(X_test, Y_test)))\n",
    "score_train9=knn9.score(X_train, Y_train)\n",
    "score_test9=knn9.score(X_test, Y_test)"
   ]
  },
  {
   "cell_type": "code",
   "execution_count": 89,
   "id": "4a1e65f2-ffb9-424f-ae58-729cb5724eb1",
   "metadata": {},
   "outputs": [
    {
     "data": {
      "text/plain": [
       "KNeighborsClassifier(n_neighbors=21)"
      ]
     },
     "execution_count": 89,
     "metadata": {},
     "output_type": "execute_result"
    }
   ],
   "source": [
    "# K-Nearest Neighbor Classification\n",
    "knn10 = KNeighborsClassifier(n_neighbors = 21,metric='minkowski',p=2) #setting up the KNN model to use 5 Nearest Neighbor\n",
    "knn10.fit(X_train, Y_train)"
   ]
  },
  {
   "cell_type": "code",
   "execution_count": 90,
   "id": "f4a77e56-3d7b-41b1-9de0-737abde2413c",
   "metadata": {},
   "outputs": [
    {
     "name": "stdout",
     "output_type": "stream",
     "text": [
      "Accuracy of K-NN classifier on training set: 0.96\n",
      "Accuracy of K-NN classifier on test set: 0.96\n"
     ]
    }
   ],
   "source": [
    "#Checking performance on the training set\n",
    "print('Accuracy of K-NN classifier on training set: {:.2f}'\n",
    "     .format(knn10.score(X_train, Y_train)))\n",
    "#Checking performance on the test set\n",
    "print('Accuracy of K-NN classifier on test set: {:.2f}'\n",
    "     .format(knn10.score(X_test, Y_test)))\n",
    "score_train10=knn10.score(X_train, Y_train)\n",
    "score_test10=knn10.score(X_test, Y_test)"
   ]
  },
  {
   "cell_type": "code",
   "execution_count": 91,
   "id": "de1aa4a9-3349-4890-a135-566ccd826736",
   "metadata": {},
   "outputs": [
    {
     "data": {
      "text/plain": [
       "KNeighborsClassifier(n_neighbors=23)"
      ]
     },
     "execution_count": 91,
     "metadata": {},
     "output_type": "execute_result"
    }
   ],
   "source": [
    "# K-Nearest Neighbor Classification\n",
    "knn11 = KNeighborsClassifier(n_neighbors = 23,metric='minkowski',p=2) #setting up the KNN model to use 5 Nearest Neighbor\n",
    "knn11.fit(X_train, Y_train)"
   ]
  },
  {
   "cell_type": "code",
   "execution_count": 92,
   "id": "6b2d5b02-fac4-4e44-97d1-8d6d4a3c22c2",
   "metadata": {},
   "outputs": [
    {
     "name": "stdout",
     "output_type": "stream",
     "text": [
      "Accuracy of K-NN classifier on training set: 0.96\n",
      "Accuracy of K-NN classifier on test set: 0.96\n"
     ]
    }
   ],
   "source": [
    "#Checking performance on the training set\n",
    "print('Accuracy of K-NN classifier on training set: {:.2f}'\n",
    "     .format(knn11.score(X_train, Y_train)))\n",
    "#Checking performance on the test set\n",
    "print('Accuracy of K-NN classifier on test set: {:.2f}'\n",
    "     .format(knn11.score(X_test, Y_test)))\n",
    "score_train11=knn11.score(X_train, Y_train)\n",
    "score_test11=knn11.score(X_test, Y_test)"
   ]
  },
  {
   "cell_type": "code",
   "execution_count": 93,
   "id": "a98462a8-04f6-4992-b3aa-9729714e97e1",
   "metadata": {},
   "outputs": [
    {
     "data": {
      "text/plain": [
       "KNeighborsClassifier(n_neighbors=25)"
      ]
     },
     "execution_count": 93,
     "metadata": {},
     "output_type": "execute_result"
    }
   ],
   "source": [
    "# K-Nearest Neighbor Classification\n",
    "knn12 = KNeighborsClassifier(n_neighbors = 25,metric='minkowski',p=2) #setting up the KNN model to use 5 Nearest Neighbor\n",
    "knn12.fit(X_train, Y_train)"
   ]
  },
  {
   "cell_type": "code",
   "execution_count": 94,
   "id": "accd763f-847b-432d-84de-1a12d59b7d86",
   "metadata": {},
   "outputs": [
    {
     "name": "stdout",
     "output_type": "stream",
     "text": [
      "Accuracy of K-NN classifier on training set: 0.96\n",
      "Accuracy of K-NN classifier on test set: 0.96\n"
     ]
    }
   ],
   "source": [
    "#Checking performance on the training set\n",
    "print('Accuracy of K-NN classifier on training set: {:.2f}'\n",
    "     .format(knn12.score(X_train, Y_train)))\n",
    "#Checking performance on the test set\n",
    "print('Accuracy of K-NN classifier on test set: {:.2f}'\n",
    "     .format(knn12.score(X_test, Y_test)))\n",
    "score_train12=knn12.score(X_train, Y_train)\n",
    "score_test12=knn12.score(X_test, Y_test)"
   ]
  },
  {
   "cell_type": "code",
   "execution_count": 95,
   "id": "c21477c1-ddea-4175-b773-cf461a8fb85a",
   "metadata": {},
   "outputs": [
    {
     "data": {
      "text/plain": [
       "KNeighborsClassifier(n_neighbors=17)"
      ]
     },
     "execution_count": 95,
     "metadata": {},
     "output_type": "execute_result"
    }
   ],
   "source": [
    "# K-Nearest Neighbor Classification\n",
    "knn13 = KNeighborsClassifier(n_neighbors = 17,metric='minkowski',p=2) #setting up the KNN model to use 5 Nearest Neighbor\n",
    "knn13.fit(X_train, Y_train)"
   ]
  },
  {
   "cell_type": "code",
   "execution_count": 97,
   "id": "3e0bbda1-dc92-42ad-b7fb-e7d89dc80c11",
   "metadata": {},
   "outputs": [
    {
     "name": "stdout",
     "output_type": "stream",
     "text": [
      "Accuracy of K-NN classifier on training set: 0.96\n",
      "Accuracy of K-NN classifier on test set: 0.95\n"
     ]
    }
   ],
   "source": [
    "#Checking performance on the training set\n",
    "print('Accuracy of K-NN classifier on training set: {:.2f}'\n",
    "     .format(knn13.score(X_train, Y_train)))\n",
    "#Checking performance on the test set\n",
    "print('Accuracy of K-NN classifier on test set: {:.2f}'\n",
    "     .format(knn13.score(X_test, Y_test)))\n",
    "score_train13=knn13.score(X_train, Y_train)\n",
    "score_test13=knn13.score(X_test, Y_test)"
   ]
  },
  {
   "cell_type": "code",
   "execution_count": 99,
   "id": "2d4484e9-a3de-4647-82a3-0af966b9bbde",
   "metadata": {},
   "outputs": [
    {
     "data": {
      "text/plain": [
       "KNeighborsClassifier(n_neighbors=29)"
      ]
     },
     "execution_count": 99,
     "metadata": {},
     "output_type": "execute_result"
    }
   ],
   "source": [
    "knn14 = KNeighborsClassifier(n_neighbors = 29,metric='minkowski',p=2) #setting up the KNN model to use 5 Nearest Neighbor\n",
    "knn14.fit(X_train, Y_train)"
   ]
  },
  {
   "cell_type": "code",
   "execution_count": 100,
   "id": "18ea31a4-f9f2-4c4b-b3dd-656870e8856f",
   "metadata": {},
   "outputs": [
    {
     "name": "stdout",
     "output_type": "stream",
     "text": [
      "Accuracy of K-NN classifier on training set: 0.96\n",
      "Accuracy of K-NN classifier on test set: 0.96\n"
     ]
    }
   ],
   "source": [
    "#Checking performance on the training set\n",
    "print('Accuracy of K-NN classifier on training set: {:.2f}'\n",
    "     .format(knn14.score(X_train, Y_train)))\n",
    "#Checking performance on the test set\n",
    "print('Accuracy of K-NN classifier on test set: {:.2f}'\n",
    "     .format(knn14.score(X_test, Y_test)))\n",
    "score_train14=knn14.score(X_train, Y_train)\n",
    "score_test14=knn14.score(X_test, Y_test)"
   ]
  },
  {
   "cell_type": "code",
   "execution_count": null,
   "id": "9267b64f-e0f1-440d-91a8-9f2deaf2b370",
   "metadata": {},
   "outputs": [],
   "source": [
    "\n",
    "plt.style.use('_mpl-gallery')\n",
    "\n",
    "# make data\n",
    "np.random.seed(1)\n",
    "x = np.linspace(0, 8, 16)\n",
    "y1 = 3 + 4*x/8 + np.random.uniform(0.0, 0.5, len(x))\n",
    "y2 = 1 + 2*x/8 + np.random.uniform(0.0, 0.5, len(x))\n",
    "\n",
    "# plot\n",
    "fig, ax = plt.subplots()\n",
    "\n",
    "ax.fill_between(x, y1, y2, alpha=.5, linewidth=0)\n",
    "ax.plot(x, (y1 + y2)/2, linewidth=2)\n",
    "\n",
    "ax.set(xlim=(0, 8), xticks=np.arange(1, 8),\n",
    "       ylim=(0, 8), yticks=np.arange(1, 8))\n",
    "\n",
    "plt.show()"
   ]
  }
 ],
 "metadata": {
  "kernelspec": {
   "display_name": "Python 3 (ipykernel)",
   "language": "python",
   "name": "python3"
  },
  "language_info": {
   "codemirror_mode": {
    "name": "ipython",
    "version": 3
   },
   "file_extension": ".py",
   "mimetype": "text/x-python",
   "name": "python",
   "nbconvert_exporter": "python",
   "pygments_lexer": "ipython3",
   "version": "3.9.7"
  }
 },
 "nbformat": 4,
 "nbformat_minor": 5
}
