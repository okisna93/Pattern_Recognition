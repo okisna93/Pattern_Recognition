{
 "cells": [
  {
   "cell_type": "code",
   "execution_count": 20,
   "id": "6ad09cfa-b902-4c89-a3ae-0d63fa3c6f7b",
   "metadata": {},
   "outputs": [
    {
     "name": "stdout",
     "output_type": "stream",
     "text": [
      "(2, 100)\n",
      "(2, 120)\n"
     ]
    }
   ],
   "source": [
    "import numpy as np\n",
    "import scipy.io as io\n",
    "import pandas as pd\n",
    "\n",
    "hw3_2_1 = io.loadmat(\"hw3.mat\")['hw3_2_1']\n",
    "hw3_2_1=np.array(hw3_2_1)\n",
    "hw3_2_2 = io.loadmat(\"hw3.mat\")['hw3_2_2']\n",
    "hw3_2_2=np.array(hw3_2_2)\n",
    "x=np.array([np.arange(-4,8,0.1),np.arange(-4,8,0.1)])\n",
    "n=100\n",
    "k=np.sqrt(n)\n",
    "\n",
    "print(hw3_2_2.shape)\n",
    "print(x.shape)"
   ]
  },
  {
   "cell_type": "code",
   "execution_count": 21,
   "id": "314f3b5b-8436-4b74-b1f2-ecf550c33b45",
   "metadata": {},
   "outputs": [],
   "source": [
    "def distance(data1,data2):\n",
    "    distance=0\n",
    "    for i in range(len(data1)):\n",
    "        distance+=(data1[i]-data2[i])**2\n",
    "    return np.sqrt(distance)"
   ]
  },
  {
   "cell_type": "code",
   "execution_count": 24,
   "id": "ed0b4cf0-deec-4bbb-99fa-eacca1f9b527",
   "metadata": {},
   "outputs": [
    {
     "name": "stderr",
     "output_type": "stream",
     "text": [
      "IOPub data rate exceeded.\n",
      "The Jupyter server will temporarily stop sending output\n",
      "to the client in order to avoid crashing it.\n",
      "To change this limit, set the config variable\n",
      "`--ServerApp.iopub_data_rate_limit`.\n",
      "\n",
      "Current values:\n",
      "ServerApp.iopub_data_rate_limit=1000000.0 (bytes/sec)\n",
      "ServerApp.rate_limit_window=3.0 (secs)\n",
      "\n"
     ]
    }
   ],
   "source": [
    "d1=[]\n",
    "d2=[]\n",
    "V1=[]\n",
    "V2=[]\n",
    "p1x=[]\n",
    "p2x=[]\n",
    "for i in range(len(x[0])):\n",
    "    for j in range(len(hw3_2_1[0])):\n",
    "        test=[x[0][i],x[1][i]]\n",
    "        data1=[hw3_2_1[0][j],hw3_2_1[1][j]]\n",
    "        data2=[hw3_2_2[0][j],hw3_2_2[1][j]]\n",
    "        \n",
    "        distance1=distance(test,data1)\n",
    "        distance2=distance(test,data2)\n",
    "        \n",
    "        d1.append(distance1)\n",
    "        d2.append(distance2)\n",
    "        \n",
    "        v1=np.pi*distance1**2\n",
    "        v2=np.pi*distance2**2\n",
    "        \n",
    "        V1.append(v1)\n",
    "        V2.append(v2)\n",
    "        \n",
    "        p1=(k/n)/V1\n",
    "        p2=(k/n)/V1\n",
    "        \n",
    "        p1x.append(p1)\n",
    "        p2x.append(p2)\n",
    "        \n",
    "d1=np.array(d1)\n",
    "d2=np.array(d2)\n",
    "\n",
    "V1=np.array(V1)\n",
    "V2=np.array(V2)\n",
    "\n",
    "\n",
    "\n",
    "print(p1x)"
   ]
  },
  {
   "cell_type": "code",
   "execution_count": null,
   "id": "7216f68f-dd00-4d4f-b100-45a21861140d",
   "metadata": {},
   "outputs": [],
   "source": []
  }
 ],
 "metadata": {
  "kernelspec": {
   "display_name": "Python 3 (ipykernel)",
   "language": "python",
   "name": "python3"
  },
  "language_info": {
   "codemirror_mode": {
    "name": "ipython",
    "version": 3
   },
   "file_extension": ".py",
   "mimetype": "text/x-python",
   "name": "python",
   "nbconvert_exporter": "python",
   "pygments_lexer": "ipython3",
   "version": "3.8.7"
  }
 },
 "nbformat": 4,
 "nbformat_minor": 5
}
