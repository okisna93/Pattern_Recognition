{
 "cells": [
  {
   "cell_type": "code",
   "execution_count": 1,
   "id": "6ad09cfa-b902-4c89-a3ae-0d63fa3c6f7b",
   "metadata": {},
   "outputs": [
    {
     "name": "stdout",
     "output_type": "stream",
     "text": [
      "(2, 100)\n",
      "(2, 120)\n"
     ]
    }
   ],
   "source": [
    "import numpy as np\n",
    "import scipy.io as io\n",
    "import pandas as pd\n",
    "import matplotlib.pyplot as plt\n",
    "from numba import jit, cuda\n",
    "\n",
    "hw3_2_1 = io.loadmat(\"hw3.mat\")['hw3_2_1']\n",
    "hw3_2_1=np.array(hw3_2_1)\n",
    "hw3_2_2 = io.loadmat(\"hw3.mat\")['hw3_2_2']\n",
    "hw3_2_2=np.array(hw3_2_2)\n",
    "x=np.array([np.arange(-4,8,0.1),np.arange(-4,8,0.1)])\n",
    "n=100\n",
    "k=np.sqrt(n)\n",
    "\n",
    "print(hw3_2_2.shape)\n",
    "print(x.shape)"
   ]
  },
  {
   "cell_type": "code",
   "execution_count": 2,
   "id": "314f3b5b-8436-4b74-b1f2-ecf550c33b45",
   "metadata": {},
   "outputs": [],
   "source": [
    "def distance(data1,data2):\n",
    "    distance=0\n",
    "    for i in range(len(data1)):\n",
    "        distance+=(data1[i]-data2[i])**2\n",
    "    return np.sqrt(distance)"
   ]
  },
  {
   "cell_type": "code",
   "execution_count": 3,
   "id": "ed0b4cf0-deec-4bbb-99fa-eacca1f9b527",
   "metadata": {},
   "outputs": [],
   "source": [
    "x_data=[]\n",
    "for i in x[0]:\n",
    "    for j in x[1]:\n",
    "        test=[i,j]\n",
    "        x_data.append(test)"
   ]
  },
  {
   "cell_type": "code",
   "execution_count": null,
   "id": "05340e80-2a12-411f-a51a-32f59c8a5104",
   "metadata": {},
   "outputs": [],
   "source": [
    "d1=[]\n",
    "d2=[]\n",
    "V1=[]\n",
    "V2=[]\n",
    "p1x=[]\n",
    "p2x=[]\n",
    "cuda.jit()\n",
    "for x_element in x_data:       \n",
    "    for k in range(len(hw3_2_1[0])):\n",
    "        data1=hw3_2_1[:,k]\n",
    "        # data2=hw3_2_2[:,k]\n",
    "\n",
    "        distance1=distance(x_element,data1)\n",
    "        # distance2=distance(x_element,data2)\n",
    "\n",
    "        d1.append(distance1)\n",
    "        # d2.append(distance2)\n",
    "\n",
    "        v1=np.pi*np.power(d1,2)\n",
    "        # v2=np.pi*np.power(d2,2)\n",
    "\n",
    "        V1.append(v1)\n",
    "        # V2.append(v2)\n",
    "\n",
    "        p1=(k/n)/v1\n",
    "        # p2=(k/n)/v2\n",
    "\n",
    "        p1x.append(p1)\n",
    "        # p2x.append(p2)"
   ]
  },
  {
   "cell_type": "code",
   "execution_count": null,
   "id": "5bc84c2e-b7e0-4d14-b44d-4ab2d81c533e",
   "metadata": {},
   "outputs": [],
   "source": [
    "print(len"
   ]
  },
  {
   "cell_type": "code",
   "execution_count": 8,
   "id": "7216f68f-dd00-4d4f-b100-45a21861140d",
   "metadata": {},
   "outputs": [
    {
     "data": {
      "image/png": "[encoded data removed]",
      "text/plain": [
       "<Figure size 432x288 with 1 Axes>"
      ]
     },
     "metadata": {
      "needs_background": "light"
     },
     "output_type": "display_data"
    }
   ],
   "source": [
    "plt.scatter(hw3_2_1[0],hw3_2_1[1],color='Red')\n",
    "plt.scatter(hw3_2_2[0],hw3_2_2[1],color='Blue')\n",
    "plt.scatter(x[0],x[1],color='Green')\n",
    "plt.show()"
   ]
  },
  {
   "cell_type": "code",
   "execution_count": null,
   "id": "8603f3ec-c647-4f1a-b3ad-eb7dae502e9e",
   "metadata": {},
   "outputs": [],
   "source": [
    "print(np.sort(d1))\n",
    "print(np.sort(d2))"
   ]
  },
  {
   "cell_type": "code",
   "execution_count": null,
   "id": "224d7c10-9950-4604-ae5b-e2f70eeb3d6e",
   "metadata": {},
   "outputs": [],
   "source": []
  },
  {
   "cell_type": "code",
   "execution_count": null,
   "id": "ee5ffb4f",
   "metadata": {},
   "outputs": [],
   "source": []
  }
 ],
 "metadata": {
  "kernelspec": {
   "display_name": "Python 3 (ipykernel)",
   "language": "python",
   "name": "python3"
  },
  "language_info": {
   "codemirror_mode": {
    "name": "ipython",
    "version": 3
   },
   "file_extension": ".py",
   "mimetype": "text/x-python",
   "name": "python",
   "nbconvert_exporter": "python",
   "pygments_lexer": "ipython3",
   "version": "3.9.7"
  }
 },
 "nbformat": 4,
 "nbformat_minor": 5
}
