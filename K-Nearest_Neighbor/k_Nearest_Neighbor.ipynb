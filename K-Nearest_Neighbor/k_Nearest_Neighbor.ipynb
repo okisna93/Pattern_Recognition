{
 "cells": [
  {
   "cell_type": "code",
   "execution_count": 8,
   "id": "3cf64722-2249-4955-8987-49989b393f29",
   "metadata": {},
   "outputs": [],
   "source": [
    "#ISMET OKAN CELIK CWID:10472265\n",
    "# Question-1\n",
    "import numpy as np\n",
    "import scipy.io as io\n",
    "from scipy.stats import multivariate_normal\n",
    "\n",
    "hw3_2_1 = io.loadmat(\"hw3.mat\")['hw3_2_1']\n",
    "hw3_2_1=np.array(hw3_2_1)\n",
    "hw3_2_2 = io.loadmat(\"hw3.mat\")['hw3_2_2']\n",
    "hw3_2_2=np.array(hw3_2_2)"
   ]
  },
  {
   "cell_type": "code",
   "execution_count": 9,
   "id": "255fb48a-36cf-476b-8401-ad8569d5e22b",
   "metadata": {},
   "outputs": [],
   "source": [
    "n=100\n",
    "k=np.sqrt(n)\n",
    "x=np.array([np.arange(-4,8,0.1),np.arange(-4,8,0.1)])"
   ]
  },
  {
   "cell_type": "code",
   "execution_count": 12,
   "id": "55920f07-dab0-4540-af40-152914bb4540",
   "metadata": {},
   "outputs": [
    {
     "name": "stdout",
     "output_type": "stream",
     "text": [
      "12000\n",
      "12000\n"
     ]
    }
   ],
   "source": [
    "p1=[]\n",
    "p2=[]\n",
    "for k in range(len(x[0])):\n",
    "    for i in range(len(hw3_2_1[0])):\n",
    "        a=np.array([[x[0][k]],[x[1][k]]])\n",
    "        data1=np.array([[hw3_2_1[0][i]],[hw3_2_1[1][i]]])\n",
    "        data2=np.array([[hw3_2_2[0][i]],[hw3_2_2[1][i]]])\n",
    "\n",
    "        # Eucledian distance calculation\n",
    "        distance1=np.linalg.norm(a-data1)\n",
    "        distance2=np.linalg.norm(a-data2)\n",
    "\n",
    "        V1=np.pi*np.power(distance1,2)\n",
    "        V2=np.pi*np.power(distance1,2)\n",
    "\n",
    "        #Density Function \n",
    "        px1=(k/n)/V1\n",
    "        px2=(k/n)/V2\n",
    "\n",
    "        p1.append(px1)\n",
    "        p2.append(px2)\n",
    "    \n",
    "print(len(p1))\n",
    "print(len(p2))"
   ]
  },
  {
   "cell_type": "code",
   "execution_count": null,
   "id": "9944041e-fd8a-4eb7-a5c6-6c19fb714aaa",
   "metadata": {},
   "outputs": [],
   "source": []
  }
 ],
 "metadata": {
  "kernelspec": {
   "display_name": "Python 3 (ipykernel)",
   "language": "python",
   "name": "python3"
  },
  "language_info": {
   "codemirror_mode": {
    "name": "ipython",
    "version": 3
   },
   "file_extension": ".py",
   "mimetype": "text/x-python",
   "name": "python",
   "nbconvert_exporter": "python",
   "pygments_lexer": "ipython3",
   "version": "3.8.7"
  }
 },
 "nbformat": 4,
 "nbformat_minor": 5
}
