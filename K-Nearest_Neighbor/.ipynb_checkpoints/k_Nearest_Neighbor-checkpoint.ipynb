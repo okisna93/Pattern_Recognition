{
 "cells": [
  {
   "cell_type": "code",
   "execution_count": 19,
   "id": "3cf64722-2249-4955-8987-49989b393f29",
   "metadata": {},
   "outputs": [],
   "source": [
    "#ISMET OKAN CELIK CWID:10472265\n",
    "# Question-1\n",
    "import numpy as np\n",
    "import scipy.io as io\n",
    "from scipy.stats import multivariate_normal\n",
    "from mpl_toolkits import mplot3d\n",
    "%matplotlib inline\n",
    "import matplotlib.pyplot as plt\n",
    "\n",
    "hw3_2_1 = io.loadmat(\"hw3.mat\")['hw3_2_1']\n",
    "hw3_2_1=np.array(hw3_2_1)\n",
    "hw3_2_2 = io.loadmat(\"hw3.mat\")['hw3_2_2']\n",
    "hw3_2_2=np.array(hw3_2_2)"
   ]
  },
  {
   "cell_type": "code",
   "execution_count": 20,
   "id": "255fb48a-36cf-476b-8401-ad8569d5e22b",
   "metadata": {},
   "outputs": [],
   "source": [
    "n=100\n",
    "k=np.sqrt(n)\n",
    "x=np.array([np.arange(-4,8,0.1),np.arange(-4,8,0.1)])"
   ]
  },
  {
   "cell_type": "code",
   "execution_count": 66,
   "id": "9659494f-211b-4a58-af47-a65f95c0e7a3",
   "metadata": {},
   "outputs": [],
   "source": [
    "def minkowski(data1,data2,k):\n",
    "    distance=0\n",
    "    for i in range(len(data1)):\n",
    "        distance=distance+np.power(abs(data1[i]-data2[i]),k)\n",
    "        distance=np.power(distance,(1/k))\n",
    "        \n",
    "    return distance  "
   ]
  },
  {
   "cell_type": "code",
   "execution_count": 79,
   "id": "55920f07-dab0-4540-af40-152914bb4540",
   "metadata": {},
   "outputs": [
    {
     "name": "stdout",
     "output_type": "stream",
     "text": [
      "12000\n",
      "[1.57448799e-02 2.17104904e-02 5.19222504e-02 ... 7.64905990e+02\n",
      " 7.78671619e+02 7.92562912e+02]\n"
     ]
    }
   ],
   "source": [
    "distance_1=[]\n",
    "distance_2=[]\n",
    "Volume1=[]\n",
    "Volume2=[]\n",
    "p1=[]\n",
    "p2=[]\n",
    "for k in range(len(x[0])):\n",
    "    for i in range(len(hw3_2_1[0])):\n",
    "        a=np.array([x[0][k],x[1][k]])\n",
    "        data1=np.array([hw3_2_1[0][i],hw3_2_1[1][i]])\n",
    "        data2=np.array([hw3_2_2[0][i],hw3_2_2[1][i]])\n",
    "\n",
    "        # Eucledian distance calculation\n",
    "        distance1=np.linalg.norm(a-data1)\n",
    "        distance2=np.linalg.norm(a-data2)\n",
    "        \n",
    "        distance_1.append(distance1)\n",
    "        distance_2.append(distance2)\n",
    "        \n",
    "        V1=np.pi*np.power(distance1,2)\n",
    "        V2=np.pi*np.power(distance2,2)\n",
    "        \n",
    "        Volume1.append(V1)\n",
    "        Volume2.append(V2)\n",
    "\n",
    "        #Density Function \n",
    "        px1=(k/n)/V1\n",
    "        px2=(k/n)/V2\n",
    "\n",
    "        p1.append(px1)\n",
    "        p2.append(px2)\n",
    "\n",
    "print(len(Volume1))\n",
    "print(np.sort(Volume1))\n",
    "\n",
    "# print(len(Volume2))\n",
    "# print(np.sort(np.array(Volume2)))"
   ]
  },
  {
   "cell_type": "code",
   "execution_count": 78,
   "id": "9944041e-fd8a-4eb7-a5c6-6c19fb714aaa",
   "metadata": {},
   "outputs": [
    {
     "name": "stdout",
     "output_type": "stream",
     "text": [
      "12000\n",
      "[4.00194950e-03 6.54833455e-03 7.02026335e-03 ... 1.90058417e+02\n",
      " 1.90194981e+02 1.93951057e+02]\n"
     ]
    }
   ],
   "source": [
    "\n",
    "distance_1=[]\n",
    "distance_2=[]\n",
    "Volume1=[]\n",
    "Volume2=[]\n",
    "p1=[]\n",
    "p2=[]\n",
    "for k in range(len(x[0])):\n",
    "    for i in range(len(hw3_2_1[0])):\n",
    "        a=np.array([x[0][k],x[1][k]])\n",
    "        data1=np.array([hw3_2_1[0][i],hw3_2_1[1][i]])\n",
    "        data2=np.array([hw3_2_2[0][i],hw3_2_2[1][i]])\n",
    "\n",
    "        # Eucledian distance calculation\n",
    "        distance1=a-data1\n",
    "        distance1=np.power(distance1[0],2)+np.power(distance1[1],2)\n",
    "        \n",
    "        distance2=a-data2\n",
    "        distance1=np.power(distance2[0],2)+np.power(distance2[1],2)\n",
    "        \n",
    "        distance_1.append(distance1)\n",
    "        distance_2.append(distance2)\n",
    "        \n",
    "        V1=np.pi*distance1\n",
    "        V2=np.pi*distance2\n",
    "        \n",
    "        Volume1.append(V1)\n",
    "        Volume2.append(V2)\n",
    "\n",
    "        #Density Function \n",
    "        px1=(k/n)/V1\n",
    "        px2=(k/n)/V2\n",
    "\n",
    "        p1.append(px1)\n",
    "        p2.append(px2)\n",
    "\n",
    "print(len(distance_1))\n",
    "print(np.sort(distance_1))\n",
    "\n",
    "# print(len(Volume2))\n",
    "# print(np.sort(np.array(Volume2)))"
   ]
  },
  {
   "cell_type": "code",
   "execution_count": 94,
   "id": "cf8ced1d-07aa-496f-9c76-252990f572d0",
   "metadata": {},
   "outputs": [
    {
     "name": "stdout",
     "output_type": "stream",
     "text": [
      "[[0.00000000e+00 0.00000000e+00 0.00000000e+00 ... 0.00000000e+00\n",
      "  0.00000000e+00 0.00000000e+00]\n",
      " [3.48437473e-05 7.90251488e-05 5.59042760e-05 ... 5.85617469e-05\n",
      "  1.06352180e-04 5.85591187e-05]\n",
      " [7.17339664e-05 1.65333695e-04 1.15984007e-04 ... 1.21724015e-04\n",
      "  2.24090878e-04 1.21329808e-04]\n",
      " ...\n",
      " [6.67000934e-03 3.67837970e-03 4.33241203e-03 ... 4.49491908e-03\n",
      "  3.09532776e-03 3.64102751e-03]\n",
      " [6.49059736e-03 3.60770983e-03 4.24163243e-03 ... 4.39614370e-03\n",
      "  3.04289719e-03 3.57589618e-03]\n",
      " [6.31914847e-03 3.53950253e-03 4.15418946e-03 ... 4.30121670e-03\n",
      "  2.99210541e-03 3.51278842e-03]]\n"
     ]
    }
   ],
   "source": [
    "N = 100\n",
    "p1_subList = [p1[i:i+N] for i in range(0, len(p1), N)]\n",
    "p2_subList= [p2[i:i+N] for i in range(0, len(p1), N)]\n",
    "\n",
    "p1_subList=np.array(p1_subList)\n",
    "p2_subList=np.array(p2_subList)\n",
    "\n",
    "print(p1_subList)"
   ]
  },
  {
   "cell_type": "code",
   "execution_count": null,
   "id": "c27ff91b-00a0-43f3-b2e3-8aa0a413bd74",
   "metadata": {},
   "outputs": [],
   "source": [
    "\n"
   ]
  },
  {
   "cell_type": "code",
   "execution_count": null,
   "id": "d3b81c22-eb12-4b69-b481-17aec200df14",
   "metadata": {},
   "outputs": [],
   "source": []
  }
 ],
 "metadata": {
  "kernelspec": {
   "display_name": "Python 3 (ipykernel)",
   "language": "python",
   "name": "python3"
  },
  "language_info": {
   "codemirror_mode": {
    "name": "ipython",
    "version": 3
   },
   "file_extension": ".py",
   "mimetype": "text/x-python",
   "name": "python",
   "nbconvert_exporter": "python",
   "pygments_lexer": "ipython3",
   "version": "3.8.7"
  }
 },
 "nbformat": 4,
 "nbformat_minor": 5
}
